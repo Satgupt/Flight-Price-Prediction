{
 "cells": [
  {
   "cell_type": "markdown",
   "id": "12625925",
   "metadata": {},
   "source": [
    "### Problem Statement\n",
    "Anyone who has booked a flight ticket knows how unexpectedly the prices vary. The cheapest \n",
    "available ticket on a given flight gets more and less expensive over time. This usually happens as \n",
    "an attempt to maximize revenue based on -\n",
    "1. Time of purchase patterns (making sure last-minute purchases are expensive)\n",
    "2. Keeping the flight as full as they want it (raising prices on a flight which is filling up in order \n",
    "to reduce sales and hold back inventory for those expensive last-minute expensive \n",
    "purchases)\n",
    "So, you have to work on a project where you collect data of flight fares with other features and \n",
    "work to make a model to predict fares of flights.\n"
   ]
  },
  {
   "cell_type": "code",
   "execution_count": 459,
   "id": "52d479f5",
   "metadata": {},
   "outputs": [],
   "source": [
    "# importing necessary libraries\n",
    "import pandas as pd\n",
    "import numpy as np\n",
    "import seaborn as sns\n",
    "import matplotlib.pyplot as plt\n",
    "import warnings\n",
    "warnings.filterwarnings('ignore')\n",
    "\n",
    "\n",
    "\n"
   ]
  },
  {
   "cell_type": "code",
   "execution_count": 460,
   "id": "e2ede80d",
   "metadata": {},
   "outputs": [],
   "source": [
    "#loading the database\n",
    "df = pd.read_csv(r'flight_data.csv')"
   ]
  },
  {
   "cell_type": "markdown",
   "id": "6ff8e9ed",
   "metadata": {},
   "source": [
    "### Overview of the Dataset "
   ]
  },
  {
   "cell_type": "code",
   "execution_count": 461,
   "id": "b3b76fd6",
   "metadata": {},
   "outputs": [
    {
     "data": {
      "text/html": [
       "<div>\n",
       "<style scoped>\n",
       "    .dataframe tbody tr th:only-of-type {\n",
       "        vertical-align: middle;\n",
       "    }\n",
       "\n",
       "    .dataframe tbody tr th {\n",
       "        vertical-align: top;\n",
       "    }\n",
       "\n",
       "    .dataframe thead th {\n",
       "        text-align: right;\n",
       "    }\n",
       "</style>\n",
       "<table border=\"1\" class=\"dataframe\">\n",
       "  <thead>\n",
       "    <tr style=\"text-align: right;\">\n",
       "      <th></th>\n",
       "      <th>Unnamed: 0</th>\n",
       "      <th>Airline_Name</th>\n",
       "      <th>Source</th>\n",
       "      <th>Destination</th>\n",
       "      <th>Departure_time</th>\n",
       "      <th>Arrival_time</th>\n",
       "      <th>Date of Journey</th>\n",
       "      <th>Number of stops</th>\n",
       "      <th>Duration</th>\n",
       "      <th>Price</th>\n",
       "    </tr>\n",
       "  </thead>\n",
       "  <tbody>\n",
       "    <tr>\n",
       "      <th>0</th>\n",
       "      <td>0</td>\n",
       "      <td>Go First</td>\n",
       "      <td>New Delhi</td>\n",
       "      <td>Mumbai</td>\n",
       "      <td>06:05</td>\n",
       "      <td>10:20</td>\n",
       "      <td>Sat, 4 Jun</td>\n",
       "      <td>1 Stop</td>\n",
       "      <td>4h 15m</td>\n",
       "      <td>8,053</td>\n",
       "    </tr>\n",
       "    <tr>\n",
       "      <th>1</th>\n",
       "      <td>1</td>\n",
       "      <td>Go First</td>\n",
       "      <td>New Delhi</td>\n",
       "      <td>Mumbai</td>\n",
       "      <td>06:05</td>\n",
       "      <td>15:00</td>\n",
       "      <td>Sat, 4 Jun</td>\n",
       "      <td>1 Stop</td>\n",
       "      <td>8h 55m</td>\n",
       "      <td>8,053</td>\n",
       "    </tr>\n",
       "    <tr>\n",
       "      <th>2</th>\n",
       "      <td>2</td>\n",
       "      <td>SpiceJet</td>\n",
       "      <td>New Delhi</td>\n",
       "      <td>Mumbai</td>\n",
       "      <td>20:00</td>\n",
       "      <td>10:30\\n+ 1 day</td>\n",
       "      <td>Sat, 4 Jun</td>\n",
       "      <td>1 Stop</td>\n",
       "      <td>14h 30m</td>\n",
       "      <td>8,053</td>\n",
       "    </tr>\n",
       "    <tr>\n",
       "      <th>3</th>\n",
       "      <td>3</td>\n",
       "      <td>IndiGo</td>\n",
       "      <td>New Delhi</td>\n",
       "      <td>Mumbai</td>\n",
       "      <td>06:30</td>\n",
       "      <td>08:35</td>\n",
       "      <td>Sat, 4 Jun</td>\n",
       "      <td>Non Stop</td>\n",
       "      <td>2h 05m</td>\n",
       "      <td>8,054</td>\n",
       "    </tr>\n",
       "    <tr>\n",
       "      <th>4</th>\n",
       "      <td>4</td>\n",
       "      <td>IndiGo</td>\n",
       "      <td>New Delhi</td>\n",
       "      <td>Mumbai</td>\n",
       "      <td>05:30</td>\n",
       "      <td>07:40</td>\n",
       "      <td>Sat, 4 Jun</td>\n",
       "      <td>Non Stop</td>\n",
       "      <td>2h 10m</td>\n",
       "      <td>8,054</td>\n",
       "    </tr>\n",
       "    <tr>\n",
       "      <th>5</th>\n",
       "      <td>5</td>\n",
       "      <td>IndiGo</td>\n",
       "      <td>New Delhi</td>\n",
       "      <td>Mumbai</td>\n",
       "      <td>08:45</td>\n",
       "      <td>11:00</td>\n",
       "      <td>Sat, 4 Jun</td>\n",
       "      <td>Non Stop</td>\n",
       "      <td>2h 15m</td>\n",
       "      <td>8,054</td>\n",
       "    </tr>\n",
       "    <tr>\n",
       "      <th>6</th>\n",
       "      <td>6</td>\n",
       "      <td>IndiGo</td>\n",
       "      <td>New Delhi</td>\n",
       "      <td>Mumbai</td>\n",
       "      <td>09:35</td>\n",
       "      <td>12:00</td>\n",
       "      <td>Sat, 4 Jun</td>\n",
       "      <td>Non Stop</td>\n",
       "      <td>2h 25m</td>\n",
       "      <td>8,054</td>\n",
       "    </tr>\n",
       "    <tr>\n",
       "      <th>7</th>\n",
       "      <td>7</td>\n",
       "      <td>Vistara</td>\n",
       "      <td>New Delhi</td>\n",
       "      <td>Mumbai</td>\n",
       "      <td>06:00</td>\n",
       "      <td>08:00</td>\n",
       "      <td>Sat, 4 Jun</td>\n",
       "      <td>Non Stop</td>\n",
       "      <td>2h 00m</td>\n",
       "      <td>8,055</td>\n",
       "    </tr>\n",
       "    <tr>\n",
       "      <th>8</th>\n",
       "      <td>8</td>\n",
       "      <td>Vistara</td>\n",
       "      <td>New Delhi</td>\n",
       "      <td>Mumbai</td>\n",
       "      <td>07:30</td>\n",
       "      <td>09:45</td>\n",
       "      <td>Sat, 4 Jun</td>\n",
       "      <td>Non Stop</td>\n",
       "      <td>2h 15m</td>\n",
       "      <td>8,055</td>\n",
       "    </tr>\n",
       "    <tr>\n",
       "      <th>9</th>\n",
       "      <td>9</td>\n",
       "      <td>IndiGo</td>\n",
       "      <td>New Delhi</td>\n",
       "      <td>Mumbai</td>\n",
       "      <td>23:35</td>\n",
       "      <td>01:40\\n+ 1 day</td>\n",
       "      <td>Sat, 4 Jun</td>\n",
       "      <td>Non Stop</td>\n",
       "      <td>2h 05m</td>\n",
       "      <td>8,264</td>\n",
       "    </tr>\n",
       "  </tbody>\n",
       "</table>\n",
       "</div>"
      ],
      "text/plain": [
       "   Unnamed: 0 Airline_Name     Source Destination Departure_time  \\\n",
       "0           0     Go First  New Delhi      Mumbai          06:05   \n",
       "1           1     Go First  New Delhi      Mumbai          06:05   \n",
       "2           2     SpiceJet  New Delhi      Mumbai          20:00   \n",
       "3           3       IndiGo  New Delhi      Mumbai          06:30   \n",
       "4           4       IndiGo  New Delhi      Mumbai          05:30   \n",
       "5           5       IndiGo  New Delhi      Mumbai          08:45   \n",
       "6           6       IndiGo  New Delhi      Mumbai          09:35   \n",
       "7           7      Vistara  New Delhi      Mumbai          06:00   \n",
       "8           8      Vistara  New Delhi      Mumbai          07:30   \n",
       "9           9       IndiGo  New Delhi      Mumbai          23:35   \n",
       "\n",
       "     Arrival_time Date of Journey Number of stops Duration  Price  \n",
       "0           10:20      Sat, 4 Jun          1 Stop   4h 15m  8,053  \n",
       "1           15:00      Sat, 4 Jun          1 Stop   8h 55m  8,053  \n",
       "2  10:30\\n+ 1 day      Sat, 4 Jun          1 Stop  14h 30m  8,053  \n",
       "3           08:35      Sat, 4 Jun        Non Stop   2h 05m  8,054  \n",
       "4           07:40      Sat, 4 Jun        Non Stop   2h 10m  8,054  \n",
       "5           11:00      Sat, 4 Jun        Non Stop   2h 15m  8,054  \n",
       "6           12:00      Sat, 4 Jun        Non Stop   2h 25m  8,054  \n",
       "7           08:00      Sat, 4 Jun        Non Stop   2h 00m  8,055  \n",
       "8           09:45      Sat, 4 Jun        Non Stop   2h 15m  8,055  \n",
       "9  01:40\\n+ 1 day      Sat, 4 Jun        Non Stop   2h 05m  8,264  "
      ]
     },
     "execution_count": 461,
     "metadata": {},
     "output_type": "execute_result"
    }
   ],
   "source": [
    "#top 10 rows\n",
    "df.head(10)"
   ]
  },
  {
   "cell_type": "code",
   "execution_count": 462,
   "id": "2708b1ea",
   "metadata": {
    "scrolled": true
   },
   "outputs": [
    {
     "data": {
      "text/html": [
       "<div>\n",
       "<style scoped>\n",
       "    .dataframe tbody tr th:only-of-type {\n",
       "        vertical-align: middle;\n",
       "    }\n",
       "\n",
       "    .dataframe tbody tr th {\n",
       "        vertical-align: top;\n",
       "    }\n",
       "\n",
       "    .dataframe thead th {\n",
       "        text-align: right;\n",
       "    }\n",
       "</style>\n",
       "<table border=\"1\" class=\"dataframe\">\n",
       "  <thead>\n",
       "    <tr style=\"text-align: right;\">\n",
       "      <th></th>\n",
       "      <th>Unnamed: 0</th>\n",
       "      <th>Airline_Name</th>\n",
       "      <th>Source</th>\n",
       "      <th>Destination</th>\n",
       "      <th>Departure_time</th>\n",
       "      <th>Arrival_time</th>\n",
       "      <th>Date of Journey</th>\n",
       "      <th>Number of stops</th>\n",
       "      <th>Duration</th>\n",
       "      <th>Price</th>\n",
       "    </tr>\n",
       "  </thead>\n",
       "  <tbody>\n",
       "    <tr>\n",
       "      <th>2659</th>\n",
       "      <td>2659</td>\n",
       "      <td>Vistara</td>\n",
       "      <td>New Delhi</td>\n",
       "      <td>Mumbai</td>\n",
       "      <td>09:05</td>\n",
       "      <td>23:25</td>\n",
       "      <td>Sun, 19 Jun</td>\n",
       "      <td>1 Stop</td>\n",
       "      <td>14h 20m</td>\n",
       "      <td>15,615</td>\n",
       "    </tr>\n",
       "    <tr>\n",
       "      <th>2660</th>\n",
       "      <td>2660</td>\n",
       "      <td>Vistara</td>\n",
       "      <td>New Delhi</td>\n",
       "      <td>Mumbai</td>\n",
       "      <td>07:10</td>\n",
       "      <td>14:45</td>\n",
       "      <td>Sun, 19 Jun</td>\n",
       "      <td>1 Stop</td>\n",
       "      <td>7h 35m</td>\n",
       "      <td>15,720</td>\n",
       "    </tr>\n",
       "    <tr>\n",
       "      <th>2661</th>\n",
       "      <td>2661</td>\n",
       "      <td>Air India</td>\n",
       "      <td>New Delhi</td>\n",
       "      <td>Mumbai</td>\n",
       "      <td>09:45</td>\n",
       "      <td>21:05</td>\n",
       "      <td>Sun, 19 Jun</td>\n",
       "      <td>1 Stop</td>\n",
       "      <td>11h 20m</td>\n",
       "      <td>15,720</td>\n",
       "    </tr>\n",
       "    <tr>\n",
       "      <th>2662</th>\n",
       "      <td>2662</td>\n",
       "      <td>Go First</td>\n",
       "      <td>New Delhi</td>\n",
       "      <td>Mumbai</td>\n",
       "      <td>05:20</td>\n",
       "      <td>10:45</td>\n",
       "      <td>Sun, 19 Jun</td>\n",
       "      <td>1 Stop</td>\n",
       "      <td>5h 25m</td>\n",
       "      <td>17,278</td>\n",
       "    </tr>\n",
       "    <tr>\n",
       "      <th>2663</th>\n",
       "      <td>2663</td>\n",
       "      <td>SpiceJet</td>\n",
       "      <td>New Delhi</td>\n",
       "      <td>Mumbai</td>\n",
       "      <td>06:25</td>\n",
       "      <td>13:35</td>\n",
       "      <td>Sun, 19 Jun</td>\n",
       "      <td>1 Stop</td>\n",
       "      <td>7h 10m</td>\n",
       "      <td>18,434</td>\n",
       "    </tr>\n",
       "    <tr>\n",
       "      <th>2664</th>\n",
       "      <td>2664</td>\n",
       "      <td>SpiceJet</td>\n",
       "      <td>New Delhi</td>\n",
       "      <td>Mumbai</td>\n",
       "      <td>06:25</td>\n",
       "      <td>16:10</td>\n",
       "      <td>Sun, 19 Jun</td>\n",
       "      <td>1 Stop</td>\n",
       "      <td>9h 45m</td>\n",
       "      <td>20,428</td>\n",
       "    </tr>\n",
       "    <tr>\n",
       "      <th>2665</th>\n",
       "      <td>2665</td>\n",
       "      <td>SpiceJet</td>\n",
       "      <td>New Delhi</td>\n",
       "      <td>Mumbai</td>\n",
       "      <td>09:50</td>\n",
       "      <td>16:10</td>\n",
       "      <td>Sun, 19 Jun</td>\n",
       "      <td>1 Stop</td>\n",
       "      <td>6h 20m</td>\n",
       "      <td>22,004</td>\n",
       "    </tr>\n",
       "    <tr>\n",
       "      <th>2666</th>\n",
       "      <td>2666</td>\n",
       "      <td>SpiceJet</td>\n",
       "      <td>New Delhi</td>\n",
       "      <td>Mumbai</td>\n",
       "      <td>09:25</td>\n",
       "      <td>16:10</td>\n",
       "      <td>Sun, 19 Jun</td>\n",
       "      <td>1 Stop</td>\n",
       "      <td>6h 45m</td>\n",
       "      <td>22,528</td>\n",
       "    </tr>\n",
       "    <tr>\n",
       "      <th>2667</th>\n",
       "      <td>2667</td>\n",
       "      <td>Go First</td>\n",
       "      <td>New Delhi</td>\n",
       "      <td>Mumbai</td>\n",
       "      <td>05:20</td>\n",
       "      <td>11:30</td>\n",
       "      <td>Sun, 19 Jun</td>\n",
       "      <td>1 Stop</td>\n",
       "      <td>6h 10m</td>\n",
       "      <td>23,788</td>\n",
       "    </tr>\n",
       "    <tr>\n",
       "      <th>2668</th>\n",
       "      <td>2668</td>\n",
       "      <td>Go First</td>\n",
       "      <td>New Delhi</td>\n",
       "      <td>Mumbai</td>\n",
       "      <td>09:25</td>\n",
       "      <td>16:50</td>\n",
       "      <td>Sun, 19 Jun</td>\n",
       "      <td>1 Stop</td>\n",
       "      <td>7h 25m</td>\n",
       "      <td>39,014</td>\n",
       "    </tr>\n",
       "  </tbody>\n",
       "</table>\n",
       "</div>"
      ],
      "text/plain": [
       "      Unnamed: 0 Airline_Name     Source Destination Departure_time  \\\n",
       "2659        2659      Vistara  New Delhi      Mumbai          09:05   \n",
       "2660        2660      Vistara  New Delhi      Mumbai          07:10   \n",
       "2661        2661    Air India  New Delhi      Mumbai          09:45   \n",
       "2662        2662     Go First  New Delhi      Mumbai          05:20   \n",
       "2663        2663     SpiceJet  New Delhi      Mumbai          06:25   \n",
       "2664        2664     SpiceJet  New Delhi      Mumbai          06:25   \n",
       "2665        2665     SpiceJet  New Delhi      Mumbai          09:50   \n",
       "2666        2666     SpiceJet  New Delhi      Mumbai          09:25   \n",
       "2667        2667     Go First  New Delhi      Mumbai          05:20   \n",
       "2668        2668     Go First  New Delhi      Mumbai          09:25   \n",
       "\n",
       "     Arrival_time Date of Journey Number of stops Duration   Price  \n",
       "2659        23:25     Sun, 19 Jun          1 Stop  14h 20m  15,615  \n",
       "2660        14:45     Sun, 19 Jun          1 Stop   7h 35m  15,720  \n",
       "2661        21:05     Sun, 19 Jun          1 Stop  11h 20m  15,720  \n",
       "2662        10:45     Sun, 19 Jun          1 Stop   5h 25m  17,278  \n",
       "2663        13:35     Sun, 19 Jun          1 Stop   7h 10m  18,434  \n",
       "2664        16:10     Sun, 19 Jun          1 Stop   9h 45m  20,428  \n",
       "2665        16:10     Sun, 19 Jun          1 Stop   6h 20m  22,004  \n",
       "2666        16:10     Sun, 19 Jun          1 Stop   6h 45m  22,528  \n",
       "2667        11:30     Sun, 19 Jun          1 Stop   6h 10m  23,788  \n",
       "2668        16:50     Sun, 19 Jun          1 Stop   7h 25m  39,014  "
      ]
     },
     "execution_count": 462,
     "metadata": {},
     "output_type": "execute_result"
    }
   ],
   "source": [
    "# Bottom 10 rows\n",
    "df.tail(10)"
   ]
  },
  {
   "cell_type": "code",
   "execution_count": 463,
   "id": "afe5a9c7",
   "metadata": {},
   "outputs": [],
   "source": [
    "# Dropping Unnamed:0 column because its a unique numbers \n",
    "df= df.drop('Unnamed: 0',axis=1)"
   ]
  },
  {
   "cell_type": "code",
   "execution_count": 464,
   "id": "65271373",
   "metadata": {
    "scrolled": true
   },
   "outputs": [
    {
     "data": {
      "text/html": [
       "<div>\n",
       "<style scoped>\n",
       "    .dataframe tbody tr th:only-of-type {\n",
       "        vertical-align: middle;\n",
       "    }\n",
       "\n",
       "    .dataframe tbody tr th {\n",
       "        vertical-align: top;\n",
       "    }\n",
       "\n",
       "    .dataframe thead th {\n",
       "        text-align: right;\n",
       "    }\n",
       "</style>\n",
       "<table border=\"1\" class=\"dataframe\">\n",
       "  <thead>\n",
       "    <tr style=\"text-align: right;\">\n",
       "      <th></th>\n",
       "      <th>Airline_Name</th>\n",
       "      <th>Source</th>\n",
       "      <th>Destination</th>\n",
       "      <th>Departure_time</th>\n",
       "      <th>Arrival_time</th>\n",
       "      <th>Date of Journey</th>\n",
       "      <th>Number of stops</th>\n",
       "      <th>Duration</th>\n",
       "      <th>Price</th>\n",
       "    </tr>\n",
       "  </thead>\n",
       "  <tbody>\n",
       "    <tr>\n",
       "      <th>0</th>\n",
       "      <td>Go First</td>\n",
       "      <td>New Delhi</td>\n",
       "      <td>Mumbai</td>\n",
       "      <td>06:05</td>\n",
       "      <td>10:20</td>\n",
       "      <td>Sat, 4 Jun</td>\n",
       "      <td>1 Stop</td>\n",
       "      <td>4h 15m</td>\n",
       "      <td>8,053</td>\n",
       "    </tr>\n",
       "    <tr>\n",
       "      <th>1</th>\n",
       "      <td>Go First</td>\n",
       "      <td>New Delhi</td>\n",
       "      <td>Mumbai</td>\n",
       "      <td>06:05</td>\n",
       "      <td>15:00</td>\n",
       "      <td>Sat, 4 Jun</td>\n",
       "      <td>1 Stop</td>\n",
       "      <td>8h 55m</td>\n",
       "      <td>8,053</td>\n",
       "    </tr>\n",
       "    <tr>\n",
       "      <th>2</th>\n",
       "      <td>SpiceJet</td>\n",
       "      <td>New Delhi</td>\n",
       "      <td>Mumbai</td>\n",
       "      <td>20:00</td>\n",
       "      <td>10:30\\n+ 1 day</td>\n",
       "      <td>Sat, 4 Jun</td>\n",
       "      <td>1 Stop</td>\n",
       "      <td>14h 30m</td>\n",
       "      <td>8,053</td>\n",
       "    </tr>\n",
       "    <tr>\n",
       "      <th>3</th>\n",
       "      <td>IndiGo</td>\n",
       "      <td>New Delhi</td>\n",
       "      <td>Mumbai</td>\n",
       "      <td>06:30</td>\n",
       "      <td>08:35</td>\n",
       "      <td>Sat, 4 Jun</td>\n",
       "      <td>Non Stop</td>\n",
       "      <td>2h 05m</td>\n",
       "      <td>8,054</td>\n",
       "    </tr>\n",
       "    <tr>\n",
       "      <th>4</th>\n",
       "      <td>IndiGo</td>\n",
       "      <td>New Delhi</td>\n",
       "      <td>Mumbai</td>\n",
       "      <td>05:30</td>\n",
       "      <td>07:40</td>\n",
       "      <td>Sat, 4 Jun</td>\n",
       "      <td>Non Stop</td>\n",
       "      <td>2h 10m</td>\n",
       "      <td>8,054</td>\n",
       "    </tr>\n",
       "    <tr>\n",
       "      <th>...</th>\n",
       "      <td>...</td>\n",
       "      <td>...</td>\n",
       "      <td>...</td>\n",
       "      <td>...</td>\n",
       "      <td>...</td>\n",
       "      <td>...</td>\n",
       "      <td>...</td>\n",
       "      <td>...</td>\n",
       "      <td>...</td>\n",
       "    </tr>\n",
       "    <tr>\n",
       "      <th>2664</th>\n",
       "      <td>SpiceJet</td>\n",
       "      <td>New Delhi</td>\n",
       "      <td>Mumbai</td>\n",
       "      <td>06:25</td>\n",
       "      <td>16:10</td>\n",
       "      <td>Sun, 19 Jun</td>\n",
       "      <td>1 Stop</td>\n",
       "      <td>9h 45m</td>\n",
       "      <td>20,428</td>\n",
       "    </tr>\n",
       "    <tr>\n",
       "      <th>2665</th>\n",
       "      <td>SpiceJet</td>\n",
       "      <td>New Delhi</td>\n",
       "      <td>Mumbai</td>\n",
       "      <td>09:50</td>\n",
       "      <td>16:10</td>\n",
       "      <td>Sun, 19 Jun</td>\n",
       "      <td>1 Stop</td>\n",
       "      <td>6h 20m</td>\n",
       "      <td>22,004</td>\n",
       "    </tr>\n",
       "    <tr>\n",
       "      <th>2666</th>\n",
       "      <td>SpiceJet</td>\n",
       "      <td>New Delhi</td>\n",
       "      <td>Mumbai</td>\n",
       "      <td>09:25</td>\n",
       "      <td>16:10</td>\n",
       "      <td>Sun, 19 Jun</td>\n",
       "      <td>1 Stop</td>\n",
       "      <td>6h 45m</td>\n",
       "      <td>22,528</td>\n",
       "    </tr>\n",
       "    <tr>\n",
       "      <th>2667</th>\n",
       "      <td>Go First</td>\n",
       "      <td>New Delhi</td>\n",
       "      <td>Mumbai</td>\n",
       "      <td>05:20</td>\n",
       "      <td>11:30</td>\n",
       "      <td>Sun, 19 Jun</td>\n",
       "      <td>1 Stop</td>\n",
       "      <td>6h 10m</td>\n",
       "      <td>23,788</td>\n",
       "    </tr>\n",
       "    <tr>\n",
       "      <th>2668</th>\n",
       "      <td>Go First</td>\n",
       "      <td>New Delhi</td>\n",
       "      <td>Mumbai</td>\n",
       "      <td>09:25</td>\n",
       "      <td>16:50</td>\n",
       "      <td>Sun, 19 Jun</td>\n",
       "      <td>1 Stop</td>\n",
       "      <td>7h 25m</td>\n",
       "      <td>39,014</td>\n",
       "    </tr>\n",
       "  </tbody>\n",
       "</table>\n",
       "<p>2669 rows × 9 columns</p>\n",
       "</div>"
      ],
      "text/plain": [
       "     Airline_Name     Source Destination Departure_time    Arrival_time  \\\n",
       "0        Go First  New Delhi      Mumbai          06:05           10:20   \n",
       "1        Go First  New Delhi      Mumbai          06:05           15:00   \n",
       "2        SpiceJet  New Delhi      Mumbai          20:00  10:30\\n+ 1 day   \n",
       "3          IndiGo  New Delhi      Mumbai          06:30           08:35   \n",
       "4          IndiGo  New Delhi      Mumbai          05:30           07:40   \n",
       "...           ...        ...         ...            ...             ...   \n",
       "2664     SpiceJet  New Delhi      Mumbai          06:25           16:10   \n",
       "2665     SpiceJet  New Delhi      Mumbai          09:50           16:10   \n",
       "2666     SpiceJet  New Delhi      Mumbai          09:25           16:10   \n",
       "2667     Go First  New Delhi      Mumbai          05:20           11:30   \n",
       "2668     Go First  New Delhi      Mumbai          09:25           16:50   \n",
       "\n",
       "     Date of Journey Number of stops Duration   Price  \n",
       "0         Sat, 4 Jun          1 Stop   4h 15m   8,053  \n",
       "1         Sat, 4 Jun          1 Stop   8h 55m   8,053  \n",
       "2         Sat, 4 Jun          1 Stop  14h 30m   8,053  \n",
       "3         Sat, 4 Jun        Non Stop   2h 05m   8,054  \n",
       "4         Sat, 4 Jun        Non Stop   2h 10m   8,054  \n",
       "...              ...             ...      ...     ...  \n",
       "2664     Sun, 19 Jun          1 Stop   9h 45m  20,428  \n",
       "2665     Sun, 19 Jun          1 Stop   6h 20m  22,004  \n",
       "2666     Sun, 19 Jun          1 Stop   6h 45m  22,528  \n",
       "2667     Sun, 19 Jun          1 Stop   6h 10m  23,788  \n",
       "2668     Sun, 19 Jun          1 Stop   7h 25m  39,014  \n",
       "\n",
       "[2669 rows x 9 columns]"
      ]
     },
     "execution_count": 464,
     "metadata": {},
     "output_type": "execute_result"
    }
   ],
   "source": [
    "df"
   ]
  },
  {
   "cell_type": "markdown",
   "id": "dd5e3736",
   "metadata": {},
   "source": [
    "### Features\n",
    "\n",
    "- Airline: The name of the airline.\n",
    "\n",
    "- Source: The source from which the service begins.\n",
    "\n",
    "- Destination: The destination where the service ends.\n",
    "\n",
    "- Dep_Time: The time when the journey starts from the source.\n",
    "\n",
    "- Arrival_Time: Time of arrival at the destination.\n",
    "\n",
    "- Date_of_Journey: The date of the journey\n",
    "\n",
    "- Duration: Total duration of the flight.\n",
    "\n",
    "- Total_Stops: Total stops between the source and destination.\n",
    "\n",
    "- Price: The price of the ticket\n",
    "\n"
   ]
  },
  {
   "cell_type": "code",
   "execution_count": 465,
   "id": "fa47ffad",
   "metadata": {},
   "outputs": [
    {
     "data": {
      "text/plain": [
       "(2669, 9)"
      ]
     },
     "execution_count": 465,
     "metadata": {},
     "output_type": "execute_result"
    }
   ],
   "source": [
    "df.shape"
   ]
  },
  {
   "cell_type": "markdown",
   "id": "d2767e62",
   "metadata": {},
   "source": [
    "Shape of the Data is 2669 Rows and 9 columns"
   ]
  },
  {
   "cell_type": "code",
   "execution_count": 466,
   "id": "0a3a5212",
   "metadata": {},
   "outputs": [
    {
     "data": {
      "text/plain": [
       "24021"
      ]
     },
     "execution_count": 466,
     "metadata": {},
     "output_type": "execute_result"
    }
   ],
   "source": [
    "df.size"
   ]
  },
  {
   "cell_type": "markdown",
   "id": "37f70726",
   "metadata": {},
   "source": [
    "In the above Dataset there is total 21375 elements"
   ]
  },
  {
   "cell_type": "code",
   "execution_count": 467,
   "id": "8fe0301c",
   "metadata": {},
   "outputs": [
    {
     "data": {
      "text/plain": [
       "294"
      ]
     },
     "execution_count": 467,
     "metadata": {},
     "output_type": "execute_result"
    }
   ],
   "source": [
    "df.duplicated().sum()"
   ]
  },
  {
   "cell_type": "markdown",
   "id": "8a231e8b",
   "metadata": {},
   "source": [
    "#### There is 294 duplicate rows so we will treat them"
   ]
  },
  {
   "cell_type": "code",
   "execution_count": 468,
   "id": "43df5e15",
   "metadata": {},
   "outputs": [],
   "source": [
    "df=df.drop_duplicates()"
   ]
  },
  {
   "cell_type": "code",
   "execution_count": 469,
   "id": "31f18fc7",
   "metadata": {},
   "outputs": [
    {
     "data": {
      "text/plain": [
       "(2375, 9)"
      ]
     },
     "execution_count": 469,
     "metadata": {},
     "output_type": "execute_result"
    }
   ],
   "source": [
    "df.shape"
   ]
  },
  {
   "cell_type": "markdown",
   "id": "4ccbab7b",
   "metadata": {},
   "source": [
    "Now the shape of the data is 2375 Rows and 9 Columns\n"
   ]
  },
  {
   "cell_type": "code",
   "execution_count": 470,
   "id": "eaff4bf3",
   "metadata": {},
   "outputs": [
    {
     "name": "stdout",
     "output_type": "stream",
     "text": [
      "<class 'pandas.core.frame.DataFrame'>\n",
      "Int64Index: 2375 entries, 0 to 2668\n",
      "Data columns (total 9 columns):\n",
      " #   Column           Non-Null Count  Dtype \n",
      "---  ------           --------------  ----- \n",
      " 0   Airline_Name     2375 non-null   object\n",
      " 1   Source           2375 non-null   object\n",
      " 2   Destination      2375 non-null   object\n",
      " 3   Departure_time   2375 non-null   object\n",
      " 4   Arrival_time     2375 non-null   object\n",
      " 5   Date of Journey  2375 non-null   object\n",
      " 6   Number of stops  2375 non-null   object\n",
      " 7   Duration         2375 non-null   object\n",
      " 8   Price            2375 non-null   object\n",
      "dtypes: object(9)\n",
      "memory usage: 102.1+ KB\n"
     ]
    }
   ],
   "source": [
    "# Informations about the data\n",
    "df.info()"
   ]
  },
  {
   "cell_type": "code",
   "execution_count": 471,
   "id": "e67d4d4f",
   "metadata": {},
   "outputs": [
    {
     "data": {
      "text/plain": [
       "Airline_Name       object\n",
       "Source             object\n",
       "Destination        object\n",
       "Departure_time     object\n",
       "Arrival_time       object\n",
       "Date of Journey    object\n",
       "Number of stops    object\n",
       "Duration           object\n",
       "Price              object\n",
       "dtype: object"
      ]
     },
     "execution_count": 471,
     "metadata": {},
     "output_type": "execute_result"
    }
   ],
   "source": [
    "df.dtypes"
   ]
  },
  {
   "cell_type": "markdown",
   "id": "5257b88b",
   "metadata": {},
   "source": [
    "There is total 9 columns in which Data type of all columns is object type."
   ]
  },
  {
   "cell_type": "code",
   "execution_count": 472,
   "id": "d21488e4",
   "metadata": {
    "scrolled": true
   },
   "outputs": [
    {
     "data": {
      "text/plain": [
       "Airline_Name       0\n",
       "Source             0\n",
       "Destination        0\n",
       "Departure_time     0\n",
       "Arrival_time       0\n",
       "Date of Journey    0\n",
       "Number of stops    0\n",
       "Duration           0\n",
       "Price              0\n",
       "dtype: int64"
      ]
     },
     "execution_count": 472,
     "metadata": {},
     "output_type": "execute_result"
    }
   ],
   "source": [
    "#Finding null values\n",
    "df.isnull().sum()"
   ]
  },
  {
   "cell_type": "code",
   "execution_count": 473,
   "id": "78df47e7",
   "metadata": {},
   "outputs": [
    {
     "data": {
      "text/plain": [
       "<AxesSubplot:>"
      ]
     },
     "execution_count": 473,
     "metadata": {},
     "output_type": "execute_result"
    },
    {
     "data": {
      "image/png": "[encoded data removed]",
      "text/plain": [
       "<Figure size 432x288 with 2 Axes>"
      ]
     },
     "metadata": {
      "needs_background": "light"
     },
     "output_type": "display_data"
    }
   ],
   "source": [
    "sns.heatmap(df.isnull())"
   ]
  },
  {
   "cell_type": "markdown",
   "id": "6be377d1",
   "metadata": {},
   "source": [
    "in the above Data set there is none null valaues which is good.\n",
    "\n",
    "\n",
    "### Feature Engineering"
   ]
  },
  {
   "cell_type": "code",
   "execution_count": 474,
   "id": "10744203",
   "metadata": {},
   "outputs": [
    {
     "data": {
      "text/plain": [
       "Index(['Airline_Name', 'Source', 'Destination', 'Departure_time',\n",
       "       'Arrival_time', 'Date of Journey', 'Number of stops', 'Duration',\n",
       "       'Price'],\n",
       "      dtype='object')"
      ]
     },
     "execution_count": 474,
     "metadata": {},
     "output_type": "execute_result"
    }
   ],
   "source": [
    "df.columns"
   ]
  },
  {
   "cell_type": "code",
   "execution_count": 475,
   "id": "1523ee85",
   "metadata": {},
   "outputs": [],
   "source": [
    "#Removing commas\n",
    "df['Price']= df['Price'].str.replace(',','')"
   ]
  },
  {
   "cell_type": "code",
   "execution_count": 476,
   "id": "c434a094",
   "metadata": {},
   "outputs": [],
   "source": [
    "# converting object Dtype to int\n",
    "df['Price']= df['Price'].astype(str).astype(int)\n"
   ]
  },
  {
   "cell_type": "code",
   "execution_count": 477,
   "id": "43deb43e",
   "metadata": {},
   "outputs": [
    {
     "data": {
      "text/plain": [
       "dtype('int32')"
      ]
     },
     "execution_count": 477,
     "metadata": {},
     "output_type": "execute_result"
    }
   ],
   "source": [
    "df['Price'].dtype"
   ]
  },
  {
   "cell_type": "code",
   "execution_count": 478,
   "id": "e7e9d2b5",
   "metadata": {},
   "outputs": [
    {
     "data": {
      "text/html": [
       "<div>\n",
       "<style scoped>\n",
       "    .dataframe tbody tr th:only-of-type {\n",
       "        vertical-align: middle;\n",
       "    }\n",
       "\n",
       "    .dataframe tbody tr th {\n",
       "        vertical-align: top;\n",
       "    }\n",
       "\n",
       "    .dataframe thead th {\n",
       "        text-align: right;\n",
       "    }\n",
       "</style>\n",
       "<table border=\"1\" class=\"dataframe\">\n",
       "  <thead>\n",
       "    <tr style=\"text-align: right;\">\n",
       "      <th></th>\n",
       "      <th>Price</th>\n",
       "    </tr>\n",
       "  </thead>\n",
       "  <tbody>\n",
       "    <tr>\n",
       "      <th>count</th>\n",
       "      <td>2375.000000</td>\n",
       "    </tr>\n",
       "    <tr>\n",
       "      <th>mean</th>\n",
       "      <td>11942.732632</td>\n",
       "    </tr>\n",
       "    <tr>\n",
       "      <th>std</th>\n",
       "      <td>4683.365111</td>\n",
       "    </tr>\n",
       "    <tr>\n",
       "      <th>min</th>\n",
       "      <td>6583.000000</td>\n",
       "    </tr>\n",
       "    <tr>\n",
       "      <th>25%</th>\n",
       "      <td>8055.000000</td>\n",
       "    </tr>\n",
       "    <tr>\n",
       "      <th>50%</th>\n",
       "      <td>10817.000000</td>\n",
       "    </tr>\n",
       "    <tr>\n",
       "      <th>75%</th>\n",
       "      <td>14250.000000</td>\n",
       "    </tr>\n",
       "    <tr>\n",
       "      <th>max</th>\n",
       "      <td>39014.000000</td>\n",
       "    </tr>\n",
       "  </tbody>\n",
       "</table>\n",
       "</div>"
      ],
      "text/plain": [
       "              Price\n",
       "count   2375.000000\n",
       "mean   11942.732632\n",
       "std     4683.365111\n",
       "min     6583.000000\n",
       "25%     8055.000000\n",
       "50%    10817.000000\n",
       "75%    14250.000000\n",
       "max    39014.000000"
      ]
     },
     "execution_count": 478,
     "metadata": {},
     "output_type": "execute_result"
    }
   ],
   "source": [
    "df.describe()"
   ]
  },
  {
   "cell_type": "markdown",
   "id": "8c273704",
   "metadata": {},
   "source": [
    "in the above observation we can see the highest ticket price is 39014 and the lowest ticket price is 6583 and an Average ticket price is 11942."
   ]
  },
  {
   "cell_type": "code",
   "execution_count": 479,
   "id": "efc2cc18",
   "metadata": {
    "scrolled": true
   },
   "outputs": [
    {
     "data": {
      "text/plain": [
       "0    Sat, 4 Jun\n",
       "1    Sat, 4 Jun\n",
       "2    Sat, 4 Jun\n",
       "3    Sat, 4 Jun\n",
       "4    Sat, 4 Jun\n",
       "Name: Date of Journey, dtype: object"
      ]
     },
     "execution_count": 479,
     "metadata": {},
     "output_type": "execute_result"
    }
   ],
   "source": [
    "df['Date of Journey'].head()"
   ]
  },
  {
   "cell_type": "code",
   "execution_count": 480,
   "id": "5f8cc2cf",
   "metadata": {},
   "outputs": [],
   "source": [
    "date=list(df['Date of Journey'])"
   ]
  },
  {
   "cell_type": "code",
   "execution_count": 481,
   "id": "0ae00aa5",
   "metadata": {},
   "outputs": [],
   "source": [
    "# Extracting Day from Date of journey\n",
    "sep = ','\n",
    "Day=[]\n",
    "for i in date:\n",
    "    stripped = i.split(sep, 1)[0]\n",
    "    Day.append(stripped)\n"
   ]
  },
  {
   "cell_type": "code",
   "execution_count": 482,
   "id": "5cbbcfe1",
   "metadata": {},
   "outputs": [],
   "source": [
    "# Extracting month from Date of journey\n",
    "sep=' ' \n",
    "Month=[]\n",
    "for i in date:\n",
    "    stripped=i.split(sep,2)[2]\n",
    "    Month.append(stripped)"
   ]
  },
  {
   "cell_type": "code",
   "execution_count": 483,
   "id": "8da5c01a",
   "metadata": {},
   "outputs": [],
   "source": [
    "# Extracting Date from Date of journey\n",
    "sep=' '\n",
    "Date=[]\n",
    "for i in date:\n",
    "    stripped=i.split(sep,2)[1]\n",
    "    Date.append(stripped)"
   ]
  },
  {
   "cell_type": "code",
   "execution_count": 484,
   "id": "8114d1b7",
   "metadata": {},
   "outputs": [],
   "source": [
    "df['Day']=Day\n",
    "df['Month']=Month\n",
    "df['Date']=Date"
   ]
  },
  {
   "cell_type": "code",
   "execution_count": 485,
   "id": "5f855e21",
   "metadata": {},
   "outputs": [
    {
     "data": {
      "text/html": [
       "<div>\n",
       "<style scoped>\n",
       "    .dataframe tbody tr th:only-of-type {\n",
       "        vertical-align: middle;\n",
       "    }\n",
       "\n",
       "    .dataframe tbody tr th {\n",
       "        vertical-align: top;\n",
       "    }\n",
       "\n",
       "    .dataframe thead th {\n",
       "        text-align: right;\n",
       "    }\n",
       "</style>\n",
       "<table border=\"1\" class=\"dataframe\">\n",
       "  <thead>\n",
       "    <tr style=\"text-align: right;\">\n",
       "      <th></th>\n",
       "      <th>Airline_Name</th>\n",
       "      <th>Source</th>\n",
       "      <th>Destination</th>\n",
       "      <th>Departure_time</th>\n",
       "      <th>Arrival_time</th>\n",
       "      <th>Date of Journey</th>\n",
       "      <th>Number of stops</th>\n",
       "      <th>Duration</th>\n",
       "      <th>Price</th>\n",
       "      <th>Day</th>\n",
       "      <th>Month</th>\n",
       "      <th>Date</th>\n",
       "    </tr>\n",
       "  </thead>\n",
       "  <tbody>\n",
       "    <tr>\n",
       "      <th>0</th>\n",
       "      <td>Go First</td>\n",
       "      <td>New Delhi</td>\n",
       "      <td>Mumbai</td>\n",
       "      <td>06:05</td>\n",
       "      <td>10:20</td>\n",
       "      <td>Sat, 4 Jun</td>\n",
       "      <td>1 Stop</td>\n",
       "      <td>4h 15m</td>\n",
       "      <td>8053</td>\n",
       "      <td>Sat</td>\n",
       "      <td>Jun</td>\n",
       "      <td>4</td>\n",
       "    </tr>\n",
       "    <tr>\n",
       "      <th>1</th>\n",
       "      <td>Go First</td>\n",
       "      <td>New Delhi</td>\n",
       "      <td>Mumbai</td>\n",
       "      <td>06:05</td>\n",
       "      <td>15:00</td>\n",
       "      <td>Sat, 4 Jun</td>\n",
       "      <td>1 Stop</td>\n",
       "      <td>8h 55m</td>\n",
       "      <td>8053</td>\n",
       "      <td>Sat</td>\n",
       "      <td>Jun</td>\n",
       "      <td>4</td>\n",
       "    </tr>\n",
       "    <tr>\n",
       "      <th>2</th>\n",
       "      <td>SpiceJet</td>\n",
       "      <td>New Delhi</td>\n",
       "      <td>Mumbai</td>\n",
       "      <td>20:00</td>\n",
       "      <td>10:30\\n+ 1 day</td>\n",
       "      <td>Sat, 4 Jun</td>\n",
       "      <td>1 Stop</td>\n",
       "      <td>14h 30m</td>\n",
       "      <td>8053</td>\n",
       "      <td>Sat</td>\n",
       "      <td>Jun</td>\n",
       "      <td>4</td>\n",
       "    </tr>\n",
       "    <tr>\n",
       "      <th>3</th>\n",
       "      <td>IndiGo</td>\n",
       "      <td>New Delhi</td>\n",
       "      <td>Mumbai</td>\n",
       "      <td>06:30</td>\n",
       "      <td>08:35</td>\n",
       "      <td>Sat, 4 Jun</td>\n",
       "      <td>Non Stop</td>\n",
       "      <td>2h 05m</td>\n",
       "      <td>8054</td>\n",
       "      <td>Sat</td>\n",
       "      <td>Jun</td>\n",
       "      <td>4</td>\n",
       "    </tr>\n",
       "    <tr>\n",
       "      <th>4</th>\n",
       "      <td>IndiGo</td>\n",
       "      <td>New Delhi</td>\n",
       "      <td>Mumbai</td>\n",
       "      <td>05:30</td>\n",
       "      <td>07:40</td>\n",
       "      <td>Sat, 4 Jun</td>\n",
       "      <td>Non Stop</td>\n",
       "      <td>2h 10m</td>\n",
       "      <td>8054</td>\n",
       "      <td>Sat</td>\n",
       "      <td>Jun</td>\n",
       "      <td>4</td>\n",
       "    </tr>\n",
       "  </tbody>\n",
       "</table>\n",
       "</div>"
      ],
      "text/plain": [
       "  Airline_Name     Source Destination Departure_time    Arrival_time  \\\n",
       "0     Go First  New Delhi      Mumbai          06:05           10:20   \n",
       "1     Go First  New Delhi      Mumbai          06:05           15:00   \n",
       "2     SpiceJet  New Delhi      Mumbai          20:00  10:30\\n+ 1 day   \n",
       "3       IndiGo  New Delhi      Mumbai          06:30           08:35   \n",
       "4       IndiGo  New Delhi      Mumbai          05:30           07:40   \n",
       "\n",
       "  Date of Journey Number of stops Duration  Price  Day Month Date  \n",
       "0      Sat, 4 Jun          1 Stop   4h 15m   8053  Sat   Jun    4  \n",
       "1      Sat, 4 Jun          1 Stop   8h 55m   8053  Sat   Jun    4  \n",
       "2      Sat, 4 Jun          1 Stop  14h 30m   8053  Sat   Jun    4  \n",
       "3      Sat, 4 Jun        Non Stop   2h 05m   8054  Sat   Jun    4  \n",
       "4      Sat, 4 Jun        Non Stop   2h 10m   8054  Sat   Jun    4  "
      ]
     },
     "execution_count": 485,
     "metadata": {},
     "output_type": "execute_result"
    }
   ],
   "source": [
    "df.head()"
   ]
  },
  {
   "cell_type": "code",
   "execution_count": 486,
   "id": "013f70ac",
   "metadata": {},
   "outputs": [],
   "source": [
    "# Extracting hour and minutes from Dep_Time\n",
    "\n",
    "df['Dep_Hour'] = pd.DatetimeIndex(df['Departure_time']).hour\n",
    "df['Dep_Minute'] = pd.DatetimeIndex(df['Departure_time']).minute"
   ]
  },
  {
   "cell_type": "code",
   "execution_count": 487,
   "id": "ceb4ad82",
   "metadata": {},
   "outputs": [],
   "source": [
    "#Removing exrta string in Arrival time\n",
    "sep='\\n'\n",
    "Arrival_Time=[]\n",
    "for i in df['Arrival_time']:\n",
    "    stripped=i.split(sep,1)[0]\n",
    "    Arrival_Time.append(stripped)"
   ]
  },
  {
   "cell_type": "code",
   "execution_count": 488,
   "id": "143dde19",
   "metadata": {},
   "outputs": [],
   "source": [
    "df['Arrival_Time']=Arrival_Time"
   ]
  },
  {
   "cell_type": "code",
   "execution_count": 489,
   "id": "99d5fe9e",
   "metadata": {},
   "outputs": [],
   "source": [
    "#Extracting hour and minutes from Arrival_Time\n",
    "df['Arrival_Hour'] = pd.DatetimeIndex(df['Arrival_Time']).hour\n",
    "df['Arrival_Minute'] = pd.DatetimeIndex(df['Arrival_Time']).minute"
   ]
  },
  {
   "cell_type": "code",
   "execution_count": 490,
   "id": "46442611",
   "metadata": {},
   "outputs": [],
   "source": [
    "#Extracting total duration in seconds\n",
    "import re\n",
    "def convert_into_seconds(X):\n",
    "    a = [int(s) for s in re.findall(r'-?\\d+\\.?\\d*', X)]\n",
    "    if len(a) == 2:\n",
    "        hr = a[0] * 3600\n",
    "        min = a[1] * 60\n",
    "    else:\n",
    "        hr = a[0] * 3600\n",
    "        min = 0   \n",
    "    total = hr + min\n",
    "    return total\n",
    "\n",
    "df['Duration(sec)'] = df['Duration'].map(convert_into_seconds)"
   ]
  },
  {
   "cell_type": "code",
   "execution_count": 491,
   "id": "ae86bc59",
   "metadata": {},
   "outputs": [
    {
     "data": {
      "text/html": [
       "<div>\n",
       "<style scoped>\n",
       "    .dataframe tbody tr th:only-of-type {\n",
       "        vertical-align: middle;\n",
       "    }\n",
       "\n",
       "    .dataframe tbody tr th {\n",
       "        vertical-align: top;\n",
       "    }\n",
       "\n",
       "    .dataframe thead th {\n",
       "        text-align: right;\n",
       "    }\n",
       "</style>\n",
       "<table border=\"1\" class=\"dataframe\">\n",
       "  <thead>\n",
       "    <tr style=\"text-align: right;\">\n",
       "      <th></th>\n",
       "      <th>Airline_Name</th>\n",
       "      <th>Source</th>\n",
       "      <th>Destination</th>\n",
       "      <th>Departure_time</th>\n",
       "      <th>Arrival_time</th>\n",
       "      <th>Date of Journey</th>\n",
       "      <th>Number of stops</th>\n",
       "      <th>Duration</th>\n",
       "      <th>Price</th>\n",
       "      <th>Day</th>\n",
       "      <th>Month</th>\n",
       "      <th>Date</th>\n",
       "      <th>Dep_Hour</th>\n",
       "      <th>Dep_Minute</th>\n",
       "      <th>Arrival_Time</th>\n",
       "      <th>Arrival_Hour</th>\n",
       "      <th>Arrival_Minute</th>\n",
       "      <th>Duration(sec)</th>\n",
       "    </tr>\n",
       "  </thead>\n",
       "  <tbody>\n",
       "    <tr>\n",
       "      <th>0</th>\n",
       "      <td>Go First</td>\n",
       "      <td>New Delhi</td>\n",
       "      <td>Mumbai</td>\n",
       "      <td>06:05</td>\n",
       "      <td>10:20</td>\n",
       "      <td>Sat, 4 Jun</td>\n",
       "      <td>1 Stop</td>\n",
       "      <td>4h 15m</td>\n",
       "      <td>8053</td>\n",
       "      <td>Sat</td>\n",
       "      <td>Jun</td>\n",
       "      <td>4</td>\n",
       "      <td>6</td>\n",
       "      <td>5</td>\n",
       "      <td>10:20</td>\n",
       "      <td>10</td>\n",
       "      <td>20</td>\n",
       "      <td>15300</td>\n",
       "    </tr>\n",
       "    <tr>\n",
       "      <th>1</th>\n",
       "      <td>Go First</td>\n",
       "      <td>New Delhi</td>\n",
       "      <td>Mumbai</td>\n",
       "      <td>06:05</td>\n",
       "      <td>15:00</td>\n",
       "      <td>Sat, 4 Jun</td>\n",
       "      <td>1 Stop</td>\n",
       "      <td>8h 55m</td>\n",
       "      <td>8053</td>\n",
       "      <td>Sat</td>\n",
       "      <td>Jun</td>\n",
       "      <td>4</td>\n",
       "      <td>6</td>\n",
       "      <td>5</td>\n",
       "      <td>15:00</td>\n",
       "      <td>15</td>\n",
       "      <td>0</td>\n",
       "      <td>32100</td>\n",
       "    </tr>\n",
       "    <tr>\n",
       "      <th>2</th>\n",
       "      <td>SpiceJet</td>\n",
       "      <td>New Delhi</td>\n",
       "      <td>Mumbai</td>\n",
       "      <td>20:00</td>\n",
       "      <td>10:30\\n+ 1 day</td>\n",
       "      <td>Sat, 4 Jun</td>\n",
       "      <td>1 Stop</td>\n",
       "      <td>14h 30m</td>\n",
       "      <td>8053</td>\n",
       "      <td>Sat</td>\n",
       "      <td>Jun</td>\n",
       "      <td>4</td>\n",
       "      <td>20</td>\n",
       "      <td>0</td>\n",
       "      <td>10:30</td>\n",
       "      <td>10</td>\n",
       "      <td>30</td>\n",
       "      <td>52200</td>\n",
       "    </tr>\n",
       "    <tr>\n",
       "      <th>3</th>\n",
       "      <td>IndiGo</td>\n",
       "      <td>New Delhi</td>\n",
       "      <td>Mumbai</td>\n",
       "      <td>06:30</td>\n",
       "      <td>08:35</td>\n",
       "      <td>Sat, 4 Jun</td>\n",
       "      <td>Non Stop</td>\n",
       "      <td>2h 05m</td>\n",
       "      <td>8054</td>\n",
       "      <td>Sat</td>\n",
       "      <td>Jun</td>\n",
       "      <td>4</td>\n",
       "      <td>6</td>\n",
       "      <td>30</td>\n",
       "      <td>08:35</td>\n",
       "      <td>8</td>\n",
       "      <td>35</td>\n",
       "      <td>7500</td>\n",
       "    </tr>\n",
       "    <tr>\n",
       "      <th>4</th>\n",
       "      <td>IndiGo</td>\n",
       "      <td>New Delhi</td>\n",
       "      <td>Mumbai</td>\n",
       "      <td>05:30</td>\n",
       "      <td>07:40</td>\n",
       "      <td>Sat, 4 Jun</td>\n",
       "      <td>Non Stop</td>\n",
       "      <td>2h 10m</td>\n",
       "      <td>8054</td>\n",
       "      <td>Sat</td>\n",
       "      <td>Jun</td>\n",
       "      <td>4</td>\n",
       "      <td>5</td>\n",
       "      <td>30</td>\n",
       "      <td>07:40</td>\n",
       "      <td>7</td>\n",
       "      <td>40</td>\n",
       "      <td>7800</td>\n",
       "    </tr>\n",
       "    <tr>\n",
       "      <th>...</th>\n",
       "      <td>...</td>\n",
       "      <td>...</td>\n",
       "      <td>...</td>\n",
       "      <td>...</td>\n",
       "      <td>...</td>\n",
       "      <td>...</td>\n",
       "      <td>...</td>\n",
       "      <td>...</td>\n",
       "      <td>...</td>\n",
       "      <td>...</td>\n",
       "      <td>...</td>\n",
       "      <td>...</td>\n",
       "      <td>...</td>\n",
       "      <td>...</td>\n",
       "      <td>...</td>\n",
       "      <td>...</td>\n",
       "      <td>...</td>\n",
       "      <td>...</td>\n",
       "    </tr>\n",
       "    <tr>\n",
       "      <th>2664</th>\n",
       "      <td>SpiceJet</td>\n",
       "      <td>New Delhi</td>\n",
       "      <td>Mumbai</td>\n",
       "      <td>06:25</td>\n",
       "      <td>16:10</td>\n",
       "      <td>Sun, 19 Jun</td>\n",
       "      <td>1 Stop</td>\n",
       "      <td>9h 45m</td>\n",
       "      <td>20428</td>\n",
       "      <td>Sun</td>\n",
       "      <td>Jun</td>\n",
       "      <td>19</td>\n",
       "      <td>6</td>\n",
       "      <td>25</td>\n",
       "      <td>16:10</td>\n",
       "      <td>16</td>\n",
       "      <td>10</td>\n",
       "      <td>35100</td>\n",
       "    </tr>\n",
       "    <tr>\n",
       "      <th>2665</th>\n",
       "      <td>SpiceJet</td>\n",
       "      <td>New Delhi</td>\n",
       "      <td>Mumbai</td>\n",
       "      <td>09:50</td>\n",
       "      <td>16:10</td>\n",
       "      <td>Sun, 19 Jun</td>\n",
       "      <td>1 Stop</td>\n",
       "      <td>6h 20m</td>\n",
       "      <td>22004</td>\n",
       "      <td>Sun</td>\n",
       "      <td>Jun</td>\n",
       "      <td>19</td>\n",
       "      <td>9</td>\n",
       "      <td>50</td>\n",
       "      <td>16:10</td>\n",
       "      <td>16</td>\n",
       "      <td>10</td>\n",
       "      <td>22800</td>\n",
       "    </tr>\n",
       "    <tr>\n",
       "      <th>2666</th>\n",
       "      <td>SpiceJet</td>\n",
       "      <td>New Delhi</td>\n",
       "      <td>Mumbai</td>\n",
       "      <td>09:25</td>\n",
       "      <td>16:10</td>\n",
       "      <td>Sun, 19 Jun</td>\n",
       "      <td>1 Stop</td>\n",
       "      <td>6h 45m</td>\n",
       "      <td>22528</td>\n",
       "      <td>Sun</td>\n",
       "      <td>Jun</td>\n",
       "      <td>19</td>\n",
       "      <td>9</td>\n",
       "      <td>25</td>\n",
       "      <td>16:10</td>\n",
       "      <td>16</td>\n",
       "      <td>10</td>\n",
       "      <td>24300</td>\n",
       "    </tr>\n",
       "    <tr>\n",
       "      <th>2667</th>\n",
       "      <td>Go First</td>\n",
       "      <td>New Delhi</td>\n",
       "      <td>Mumbai</td>\n",
       "      <td>05:20</td>\n",
       "      <td>11:30</td>\n",
       "      <td>Sun, 19 Jun</td>\n",
       "      <td>1 Stop</td>\n",
       "      <td>6h 10m</td>\n",
       "      <td>23788</td>\n",
       "      <td>Sun</td>\n",
       "      <td>Jun</td>\n",
       "      <td>19</td>\n",
       "      <td>5</td>\n",
       "      <td>20</td>\n",
       "      <td>11:30</td>\n",
       "      <td>11</td>\n",
       "      <td>30</td>\n",
       "      <td>22200</td>\n",
       "    </tr>\n",
       "    <tr>\n",
       "      <th>2668</th>\n",
       "      <td>Go First</td>\n",
       "      <td>New Delhi</td>\n",
       "      <td>Mumbai</td>\n",
       "      <td>09:25</td>\n",
       "      <td>16:50</td>\n",
       "      <td>Sun, 19 Jun</td>\n",
       "      <td>1 Stop</td>\n",
       "      <td>7h 25m</td>\n",
       "      <td>39014</td>\n",
       "      <td>Sun</td>\n",
       "      <td>Jun</td>\n",
       "      <td>19</td>\n",
       "      <td>9</td>\n",
       "      <td>25</td>\n",
       "      <td>16:50</td>\n",
       "      <td>16</td>\n",
       "      <td>50</td>\n",
       "      <td>26700</td>\n",
       "    </tr>\n",
       "  </tbody>\n",
       "</table>\n",
       "<p>2375 rows × 18 columns</p>\n",
       "</div>"
      ],
      "text/plain": [
       "     Airline_Name     Source Destination Departure_time    Arrival_time  \\\n",
       "0        Go First  New Delhi      Mumbai          06:05           10:20   \n",
       "1        Go First  New Delhi      Mumbai          06:05           15:00   \n",
       "2        SpiceJet  New Delhi      Mumbai          20:00  10:30\\n+ 1 day   \n",
       "3          IndiGo  New Delhi      Mumbai          06:30           08:35   \n",
       "4          IndiGo  New Delhi      Mumbai          05:30           07:40   \n",
       "...           ...        ...         ...            ...             ...   \n",
       "2664     SpiceJet  New Delhi      Mumbai          06:25           16:10   \n",
       "2665     SpiceJet  New Delhi      Mumbai          09:50           16:10   \n",
       "2666     SpiceJet  New Delhi      Mumbai          09:25           16:10   \n",
       "2667     Go First  New Delhi      Mumbai          05:20           11:30   \n",
       "2668     Go First  New Delhi      Mumbai          09:25           16:50   \n",
       "\n",
       "     Date of Journey Number of stops Duration  Price  Day Month Date  \\\n",
       "0         Sat, 4 Jun          1 Stop   4h 15m   8053  Sat   Jun    4   \n",
       "1         Sat, 4 Jun          1 Stop   8h 55m   8053  Sat   Jun    4   \n",
       "2         Sat, 4 Jun          1 Stop  14h 30m   8053  Sat   Jun    4   \n",
       "3         Sat, 4 Jun        Non Stop   2h 05m   8054  Sat   Jun    4   \n",
       "4         Sat, 4 Jun        Non Stop   2h 10m   8054  Sat   Jun    4   \n",
       "...              ...             ...      ...    ...  ...   ...  ...   \n",
       "2664     Sun, 19 Jun          1 Stop   9h 45m  20428  Sun   Jun   19   \n",
       "2665     Sun, 19 Jun          1 Stop   6h 20m  22004  Sun   Jun   19   \n",
       "2666     Sun, 19 Jun          1 Stop   6h 45m  22528  Sun   Jun   19   \n",
       "2667     Sun, 19 Jun          1 Stop   6h 10m  23788  Sun   Jun   19   \n",
       "2668     Sun, 19 Jun          1 Stop   7h 25m  39014  Sun   Jun   19   \n",
       "\n",
       "      Dep_Hour  Dep_Minute Arrival_Time  Arrival_Hour  Arrival_Minute  \\\n",
       "0            6           5        10:20            10              20   \n",
       "1            6           5        15:00            15               0   \n",
       "2           20           0        10:30            10              30   \n",
       "3            6          30        08:35             8              35   \n",
       "4            5          30        07:40             7              40   \n",
       "...        ...         ...          ...           ...             ...   \n",
       "2664         6          25        16:10            16              10   \n",
       "2665         9          50        16:10            16              10   \n",
       "2666         9          25        16:10            16              10   \n",
       "2667         5          20        11:30            11              30   \n",
       "2668         9          25        16:50            16              50   \n",
       "\n",
       "      Duration(sec)  \n",
       "0             15300  \n",
       "1             32100  \n",
       "2             52200  \n",
       "3              7500  \n",
       "4              7800  \n",
       "...             ...  \n",
       "2664          35100  \n",
       "2665          22800  \n",
       "2666          24300  \n",
       "2667          22200  \n",
       "2668          26700  \n",
       "\n",
       "[2375 rows x 18 columns]"
      ]
     },
     "execution_count": 491,
     "metadata": {},
     "output_type": "execute_result"
    }
   ],
   "source": [
    "df"
   ]
  },
  {
   "cell_type": "code",
   "execution_count": 492,
   "id": "5096ad0c",
   "metadata": {},
   "outputs": [],
   "source": [
    "#Removing unnecessary columns\n",
    "df.drop(['Departure_time','Arrival_time','Date of Journey','Duration'],axis=1,inplace=True)"
   ]
  },
  {
   "cell_type": "code",
   "execution_count": 493,
   "id": "5590f398",
   "metadata": {
    "scrolled": true
   },
   "outputs": [
    {
     "data": {
      "text/html": [
       "<div>\n",
       "<style scoped>\n",
       "    .dataframe tbody tr th:only-of-type {\n",
       "        vertical-align: middle;\n",
       "    }\n",
       "\n",
       "    .dataframe tbody tr th {\n",
       "        vertical-align: top;\n",
       "    }\n",
       "\n",
       "    .dataframe thead th {\n",
       "        text-align: right;\n",
       "    }\n",
       "</style>\n",
       "<table border=\"1\" class=\"dataframe\">\n",
       "  <thead>\n",
       "    <tr style=\"text-align: right;\">\n",
       "      <th></th>\n",
       "      <th>Airline_Name</th>\n",
       "      <th>Source</th>\n",
       "      <th>Destination</th>\n",
       "      <th>Number of stops</th>\n",
       "      <th>Price</th>\n",
       "      <th>Day</th>\n",
       "      <th>Month</th>\n",
       "      <th>Date</th>\n",
       "      <th>Dep_Hour</th>\n",
       "      <th>Dep_Minute</th>\n",
       "      <th>Arrival_Time</th>\n",
       "      <th>Arrival_Hour</th>\n",
       "      <th>Arrival_Minute</th>\n",
       "      <th>Duration(sec)</th>\n",
       "    </tr>\n",
       "  </thead>\n",
       "  <tbody>\n",
       "    <tr>\n",
       "      <th>0</th>\n",
       "      <td>Go First</td>\n",
       "      <td>New Delhi</td>\n",
       "      <td>Mumbai</td>\n",
       "      <td>1 Stop</td>\n",
       "      <td>8053</td>\n",
       "      <td>Sat</td>\n",
       "      <td>Jun</td>\n",
       "      <td>4</td>\n",
       "      <td>6</td>\n",
       "      <td>5</td>\n",
       "      <td>10:20</td>\n",
       "      <td>10</td>\n",
       "      <td>20</td>\n",
       "      <td>15300</td>\n",
       "    </tr>\n",
       "    <tr>\n",
       "      <th>1</th>\n",
       "      <td>Go First</td>\n",
       "      <td>New Delhi</td>\n",
       "      <td>Mumbai</td>\n",
       "      <td>1 Stop</td>\n",
       "      <td>8053</td>\n",
       "      <td>Sat</td>\n",
       "      <td>Jun</td>\n",
       "      <td>4</td>\n",
       "      <td>6</td>\n",
       "      <td>5</td>\n",
       "      <td>15:00</td>\n",
       "      <td>15</td>\n",
       "      <td>0</td>\n",
       "      <td>32100</td>\n",
       "    </tr>\n",
       "    <tr>\n",
       "      <th>2</th>\n",
       "      <td>SpiceJet</td>\n",
       "      <td>New Delhi</td>\n",
       "      <td>Mumbai</td>\n",
       "      <td>1 Stop</td>\n",
       "      <td>8053</td>\n",
       "      <td>Sat</td>\n",
       "      <td>Jun</td>\n",
       "      <td>4</td>\n",
       "      <td>20</td>\n",
       "      <td>0</td>\n",
       "      <td>10:30</td>\n",
       "      <td>10</td>\n",
       "      <td>30</td>\n",
       "      <td>52200</td>\n",
       "    </tr>\n",
       "    <tr>\n",
       "      <th>3</th>\n",
       "      <td>IndiGo</td>\n",
       "      <td>New Delhi</td>\n",
       "      <td>Mumbai</td>\n",
       "      <td>Non Stop</td>\n",
       "      <td>8054</td>\n",
       "      <td>Sat</td>\n",
       "      <td>Jun</td>\n",
       "      <td>4</td>\n",
       "      <td>6</td>\n",
       "      <td>30</td>\n",
       "      <td>08:35</td>\n",
       "      <td>8</td>\n",
       "      <td>35</td>\n",
       "      <td>7500</td>\n",
       "    </tr>\n",
       "    <tr>\n",
       "      <th>4</th>\n",
       "      <td>IndiGo</td>\n",
       "      <td>New Delhi</td>\n",
       "      <td>Mumbai</td>\n",
       "      <td>Non Stop</td>\n",
       "      <td>8054</td>\n",
       "      <td>Sat</td>\n",
       "      <td>Jun</td>\n",
       "      <td>4</td>\n",
       "      <td>5</td>\n",
       "      <td>30</td>\n",
       "      <td>07:40</td>\n",
       "      <td>7</td>\n",
       "      <td>40</td>\n",
       "      <td>7800</td>\n",
       "    </tr>\n",
       "  </tbody>\n",
       "</table>\n",
       "</div>"
      ],
      "text/plain": [
       "  Airline_Name     Source Destination Number of stops  Price  Day Month Date  \\\n",
       "0     Go First  New Delhi      Mumbai          1 Stop   8053  Sat   Jun    4   \n",
       "1     Go First  New Delhi      Mumbai          1 Stop   8053  Sat   Jun    4   \n",
       "2     SpiceJet  New Delhi      Mumbai          1 Stop   8053  Sat   Jun    4   \n",
       "3       IndiGo  New Delhi      Mumbai        Non Stop   8054  Sat   Jun    4   \n",
       "4       IndiGo  New Delhi      Mumbai        Non Stop   8054  Sat   Jun    4   \n",
       "\n",
       "   Dep_Hour  Dep_Minute Arrival_Time  Arrival_Hour  Arrival_Minute  \\\n",
       "0         6           5        10:20            10              20   \n",
       "1         6           5        15:00            15               0   \n",
       "2        20           0        10:30            10              30   \n",
       "3         6          30        08:35             8              35   \n",
       "4         5          30        07:40             7              40   \n",
       "\n",
       "   Duration(sec)  \n",
       "0          15300  \n",
       "1          32100  \n",
       "2          52200  \n",
       "3           7500  \n",
       "4           7800  "
      ]
     },
     "execution_count": 493,
     "metadata": {},
     "output_type": "execute_result"
    }
   ],
   "source": [
    "df.head()"
   ]
  },
  {
   "cell_type": "markdown",
   "id": "f7a58cea",
   "metadata": {},
   "source": [
    "### EDA"
   ]
  },
  {
   "cell_type": "code",
   "execution_count": 494,
   "id": "00c38ad2",
   "metadata": {},
   "outputs": [
    {
     "data": {
      "text/plain": [
       "6"
      ]
     },
     "execution_count": 494,
     "metadata": {},
     "output_type": "execute_result"
    }
   ],
   "source": [
    "len(df['Airline_Name'].unique())"
   ]
  },
  {
   "cell_type": "code",
   "execution_count": 495,
   "id": "769849b9",
   "metadata": {},
   "outputs": [
    {
     "data": {
      "text/plain": [
       "Vistara      696\n",
       "IndiGo       625\n",
       "Air India    332\n",
       "Go First     294\n",
       "SpiceJet     265\n",
       "Air Asia     163\n",
       "Name: Airline_Name, dtype: int64"
      ]
     },
     "execution_count": 495,
     "metadata": {},
     "output_type": "execute_result"
    }
   ],
   "source": [
    "df['Airline_Name'].value_counts()"
   ]
  },
  {
   "cell_type": "code",
   "execution_count": 496,
   "id": "387b2b96",
   "metadata": {},
   "outputs": [
    {
     "data": {
      "text/plain": [
       "<AxesSubplot:xlabel='Airline_Name', ylabel='count'>"
      ]
     },
     "execution_count": 496,
     "metadata": {},
     "output_type": "execute_result"
    },
    {
     "data": {
      "image/png": "[encoded data removed]",
      "text/plain": [
       "<Figure size 576x360 with 1 Axes>"
      ]
     },
     "metadata": {
      "needs_background": "light"
     },
     "output_type": "display_data"
    }
   ],
   "source": [
    "plt.figure(figsize=(8,5))\n",
    "sns.countplot(df['Airline_Name'])\n"
   ]
  },
  {
   "cell_type": "markdown",
   "id": "00cc2bb7",
   "metadata": {},
   "source": [
    "Vistara has hishest no of flights followed by Indigo and Air Asia have less no of flights."
   ]
  },
  {
   "cell_type": "code",
   "execution_count": 497,
   "id": "bf1a2ab2",
   "metadata": {},
   "outputs": [
    {
     "data": {
      "text/plain": [
       "1"
      ]
     },
     "execution_count": 497,
     "metadata": {},
     "output_type": "execute_result"
    }
   ],
   "source": [
    "len(df['Source'].unique())"
   ]
  },
  {
   "cell_type": "code",
   "execution_count": 498,
   "id": "e0d93b00",
   "metadata": {},
   "outputs": [
    {
     "data": {
      "text/plain": [
       "New Delhi    2375\n",
       "Name: Source, dtype: int64"
      ]
     },
     "execution_count": 498,
     "metadata": {},
     "output_type": "execute_result"
    }
   ],
   "source": [
    "df['Source'].value_counts()"
   ]
  },
  {
   "cell_type": "code",
   "execution_count": 499,
   "id": "ae25d46e",
   "metadata": {},
   "outputs": [
    {
     "data": {
      "text/plain": [
       "1"
      ]
     },
     "execution_count": 499,
     "metadata": {},
     "output_type": "execute_result"
    }
   ],
   "source": [
    "len(df['Destination'].unique())"
   ]
  },
  {
   "cell_type": "code",
   "execution_count": 500,
   "id": "722948ea",
   "metadata": {},
   "outputs": [
    {
     "data": {
      "text/plain": [
       "Mumbai    2375\n",
       "Name: Destination, dtype: int64"
      ]
     },
     "execution_count": 500,
     "metadata": {},
     "output_type": "execute_result"
    }
   ],
   "source": [
    "df['Destination'].value_counts()"
   ]
  },
  {
   "cell_type": "code",
   "execution_count": 501,
   "id": "eebce134",
   "metadata": {},
   "outputs": [
    {
     "data": {
      "text/plain": [
       "3"
      ]
     },
     "execution_count": 501,
     "metadata": {},
     "output_type": "execute_result"
    }
   ],
   "source": [
    "len(df['Number of stops'].unique())"
   ]
  },
  {
   "cell_type": "code",
   "execution_count": 502,
   "id": "1ed8863c",
   "metadata": {},
   "outputs": [
    {
     "data": {
      "text/plain": [
       "1 Stop       1623\n",
       "Non Stop      738\n",
       "2 Stop(s)      14\n",
       "Name: Number of stops, dtype: int64"
      ]
     },
     "execution_count": 502,
     "metadata": {},
     "output_type": "execute_result"
    }
   ],
   "source": [
    "df['Number of stops'].value_counts()"
   ]
  },
  {
   "cell_type": "code",
   "execution_count": 503,
   "id": "6ebcf3dd",
   "metadata": {},
   "outputs": [
    {
     "data": {
      "text/plain": [
       "<AxesSubplot:xlabel='Number of stops', ylabel='count'>"
      ]
     },
     "execution_count": 503,
     "metadata": {},
     "output_type": "execute_result"
    },
    {
     "data": {
      "image/png": "[encoded data removed]",
      "text/plain": [
       "<Figure size 576x360 with 1 Axes>"
      ]
     },
     "metadata": {
      "needs_background": "light"
     },
     "output_type": "display_data"
    }
   ],
   "source": [
    "plt.figure(figsize=(8,5))\n",
    "sns.countplot(df['Number of stops'])\n"
   ]
  },
  {
   "cell_type": "markdown",
   "id": "84e3ef90",
   "metadata": {},
   "source": [
    "1623 flights have 1 stop, 738 flights have non stop and only 14 flights have 2 stops."
   ]
  },
  {
   "cell_type": "code",
   "execution_count": 504,
   "id": "0b47a47f",
   "metadata": {},
   "outputs": [
    {
     "data": {
      "text/plain": [
       "7"
      ]
     },
     "execution_count": 504,
     "metadata": {},
     "output_type": "execute_result"
    }
   ],
   "source": [
    "len(df['Day'].unique())"
   ]
  },
  {
   "cell_type": "code",
   "execution_count": 505,
   "id": "35489cd2",
   "metadata": {},
   "outputs": [
    {
     "data": {
      "text/plain": [
       "Sun    517\n",
       "Sat    505\n",
       "Fri    363\n",
       "Thu    341\n",
       "Mon    325\n",
       "Tue    168\n",
       "Wed    156\n",
       "Name: Day, dtype: int64"
      ]
     },
     "execution_count": 505,
     "metadata": {},
     "output_type": "execute_result"
    }
   ],
   "source": [
    "df['Day'].value_counts()"
   ]
  },
  {
   "cell_type": "code",
   "execution_count": 506,
   "id": "01bcfd24",
   "metadata": {
    "scrolled": true
   },
   "outputs": [
    {
     "data": {
      "text/plain": [
       "<AxesSubplot:xlabel='Day', ylabel='count'>"
      ]
     },
     "execution_count": 506,
     "metadata": {},
     "output_type": "execute_result"
    },
    {
     "data": {
      "image/png": "[encoded data removed]",
      "text/plain": [
       "<Figure size 576x360 with 1 Axes>"
      ]
     },
     "metadata": {
      "needs_background": "light"
     },
     "output_type": "display_data"
    }
   ],
   "source": [
    "plt.figure(figsize=(8,5))\n",
    "sns.countplot(df['Day'])"
   ]
  },
  {
   "cell_type": "markdown",
   "id": "859751fc",
   "metadata": {},
   "source": [
    "Highest no of flights on Sunday followed by saturday and very less no of flights on Wednesday."
   ]
  },
  {
   "cell_type": "code",
   "execution_count": 507,
   "id": "d691bb9c",
   "metadata": {},
   "outputs": [
    {
     "data": {
      "text/plain": [
       "1"
      ]
     },
     "execution_count": 507,
     "metadata": {},
     "output_type": "execute_result"
    }
   ],
   "source": [
    "len(df['Month'].unique())"
   ]
  },
  {
   "cell_type": "code",
   "execution_count": 508,
   "id": "f28f38cb",
   "metadata": {},
   "outputs": [
    {
     "data": {
      "text/plain": [
       "Jun    2375\n",
       "Name: Month, dtype: int64"
      ]
     },
     "execution_count": 508,
     "metadata": {},
     "output_type": "execute_result"
    }
   ],
   "source": [
    "df['Month'].value_counts()"
   ]
  },
  {
   "cell_type": "code",
   "execution_count": 509,
   "id": "e201c413",
   "metadata": {},
   "outputs": [
    {
     "data": {
      "text/plain": [
       "14"
      ]
     },
     "execution_count": 509,
     "metadata": {},
     "output_type": "execute_result"
    }
   ],
   "source": [
    "len(df['Date'].unique())"
   ]
  },
  {
   "cell_type": "code",
   "execution_count": 510,
   "id": "0b02631e",
   "metadata": {},
   "outputs": [
    {
     "data": {
      "text/plain": [
       "17    186\n",
       "19    182\n",
       "10    177\n",
       "18    177\n",
       "11    177\n",
       "9     174\n",
       "5     171\n",
       "14    168\n",
       "16    167\n",
       "12    164\n",
       "6     163\n",
       "13    162\n",
       "15    156\n",
       "4     151\n",
       "Name: Date, dtype: int64"
      ]
     },
     "execution_count": 510,
     "metadata": {},
     "output_type": "execute_result"
    }
   ],
   "source": [
    "df['Date'].value_counts()"
   ]
  },
  {
   "cell_type": "code",
   "execution_count": 511,
   "id": "dfa71fd2",
   "metadata": {},
   "outputs": [
    {
     "data": {
      "text/plain": [
       "<AxesSubplot:xlabel='Date', ylabel='count'>"
      ]
     },
     "execution_count": 511,
     "metadata": {},
     "output_type": "execute_result"
    },
    {
     "data": {
      "image/png": "[encoded data removed]",
      "text/plain": [
       "<Figure size 576x432 with 1 Axes>"
      ]
     },
     "metadata": {
      "needs_background": "light"
     },
     "output_type": "display_data"
    }
   ],
   "source": [
    "plt.figure(figsize=(8,6))\n",
    "sns.countplot(df['Date'])"
   ]
  },
  {
   "cell_type": "markdown",
   "id": "6e60aeed",
   "metadata": {},
   "source": [
    "Highest no of flights on 17th and lowest no of flights on 4th."
   ]
  },
  {
   "cell_type": "code",
   "execution_count": 512,
   "id": "7e50d6db",
   "metadata": {},
   "outputs": [
    {
     "data": {
      "text/plain": [
       "22"
      ]
     },
     "execution_count": 512,
     "metadata": {},
     "output_type": "execute_result"
    }
   ],
   "source": [
    "len(df['Dep_Hour'].unique())"
   ]
  },
  {
   "cell_type": "code",
   "execution_count": 513,
   "id": "b1821d0d",
   "metadata": {},
   "outputs": [
    {
     "data": {
      "text/plain": [
       "6     191\n",
       "10    167\n",
       "5     163\n",
       "7     158\n",
       "21    156\n",
       "9     155\n",
       "17    149\n",
       "18    148\n",
       "20    142\n",
       "8     127\n",
       "19    118\n",
       "14    104\n",
       "13     95\n",
       "12     95\n",
       "16     86\n",
       "11     78\n",
       "22     76\n",
       "15     76\n",
       "0      26\n",
       "4      26\n",
       "2      25\n",
       "23     14\n",
       "Name: Dep_Hour, dtype: int64"
      ]
     },
     "execution_count": 513,
     "metadata": {},
     "output_type": "execute_result"
    }
   ],
   "source": [
    "df['Dep_Hour'].value_counts()"
   ]
  },
  {
   "cell_type": "code",
   "execution_count": 514,
   "id": "94de75d3",
   "metadata": {},
   "outputs": [
    {
     "data": {
      "text/plain": [
       "<AxesSubplot:xlabel='Dep_Hour', ylabel='count'>"
      ]
     },
     "execution_count": 514,
     "metadata": {},
     "output_type": "execute_result"
    },
    {
     "data": {
      "image/png": "[encoded data removed]",
      "text/plain": [
       "<Figure size 576x360 with 1 Axes>"
      ]
     },
     "metadata": {
      "needs_background": "light"
     },
     "output_type": "display_data"
    }
   ],
   "source": [
    "plt.figure(figsize=(8,5))\n",
    "sns.countplot(df['Dep_Hour'])"
   ]
  },
  {
   "cell_type": "markdown",
   "id": "dd78dc38",
   "metadata": {},
   "source": [
    "Most of the flights Departure time is morning 5 to 10 am and evening 5 to 9 pm.\n"
   ]
  },
  {
   "cell_type": "code",
   "execution_count": 515,
   "id": "b32759ac",
   "metadata": {},
   "outputs": [
    {
     "data": {
      "text/plain": [
       "23"
      ]
     },
     "execution_count": 515,
     "metadata": {},
     "output_type": "execute_result"
    }
   ],
   "source": [
    "len(df['Arrival_Hour'].unique())"
   ]
  },
  {
   "cell_type": "code",
   "execution_count": 516,
   "id": "23153ab0",
   "metadata": {},
   "outputs": [
    {
     "data": {
      "text/plain": [
       "23    234\n",
       "21    180\n",
       "16    157\n",
       "8     146\n",
       "18    146\n",
       "9     129\n",
       "11    124\n",
       "10    118\n",
       "0     115\n",
       "15    114\n",
       "19    112\n",
       "20    103\n",
       "22    101\n",
       "12     97\n",
       "13     94\n",
       "14     91\n",
       "5      75\n",
       "7      61\n",
       "6      54\n",
       "17     45\n",
       "1      28\n",
       "2      26\n",
       "4      25\n",
       "Name: Arrival_Hour, dtype: int64"
      ]
     },
     "execution_count": 516,
     "metadata": {},
     "output_type": "execute_result"
    }
   ],
   "source": [
    "df['Arrival_Hour'].value_counts()"
   ]
  },
  {
   "cell_type": "code",
   "execution_count": 517,
   "id": "9b561910",
   "metadata": {},
   "outputs": [
    {
     "data": {
      "text/plain": [
       "<AxesSubplot:xlabel='Arrival_Hour', ylabel='count'>"
      ]
     },
     "execution_count": 517,
     "metadata": {},
     "output_type": "execute_result"
    },
    {
     "data": {
      "image/png": "[encoded data removed]",
      "text/plain": [
       "<Figure size 576x360 with 1 Axes>"
      ]
     },
     "metadata": {
      "needs_background": "light"
     },
     "output_type": "display_data"
    }
   ],
   "source": [
    "plt.figure(figsize=(8,5))\n",
    "sns.countplot(df['Arrival_Hour'])"
   ]
  },
  {
   "cell_type": "markdown",
   "id": "33596e15",
   "metadata": {},
   "source": [
    "Most of the flights Arrival time is morning 8 to 11 am and evening 6 to 11 pm."
   ]
  },
  {
   "cell_type": "code",
   "execution_count": 518,
   "id": "e28d7715",
   "metadata": {},
   "outputs": [
    {
     "data": {
      "text/plain": [
       "<AxesSubplot:xlabel='Airline_Name', ylabel='Price'>"
      ]
     },
     "execution_count": 518,
     "metadata": {},
     "output_type": "execute_result"
    },
    {
     "data": {
      "image/png": "[encoded data removed]",
      "text/plain": [
       "<Figure size 576x432 with 1 Axes>"
      ]
     },
     "metadata": {
      "needs_background": "light"
     },
     "output_type": "display_data"
    }
   ],
   "source": [
    "plt.figure(figsize=(8,6))\n",
    "sns.stripplot(x='Airline_Name',y='Price',data=df)"
   ]
  },
  {
   "cell_type": "markdown",
   "id": "0139ae7f",
   "metadata": {},
   "source": [
    "In the above observation Go First shows highest price."
   ]
  },
  {
   "cell_type": "code",
   "execution_count": 519,
   "id": "08437560",
   "metadata": {},
   "outputs": [
    {
     "data": {
      "text/plain": [
       "<AxesSubplot:xlabel='Number of stops', ylabel='Price'>"
      ]
     },
     "execution_count": 519,
     "metadata": {},
     "output_type": "execute_result"
    },
    {
     "data": {
      "image/png": "[encoded data removed]",
      "text/plain": [
       "<Figure size 576x432 with 1 Axes>"
      ]
     },
     "metadata": {
      "needs_background": "light"
     },
     "output_type": "display_data"
    }
   ],
   "source": [
    "plt.figure(figsize=(8,6))\n",
    "sns.barplot(x='Number of stops',y='Price',data=df)"
   ]
  },
  {
   "cell_type": "markdown",
   "id": "1dfcd870",
   "metadata": {},
   "source": [
    "In the above observation we can see that 1 stop flight price is high and non stop flight price is low. "
   ]
  },
  {
   "cell_type": "code",
   "execution_count": 520,
   "id": "88fed471",
   "metadata": {},
   "outputs": [
    {
     "data": {
      "text/plain": [
       "<AxesSubplot:xlabel='Date', ylabel='Price'>"
      ]
     },
     "execution_count": 520,
     "metadata": {},
     "output_type": "execute_result"
    },
    {
     "data": {
      "image/png": "[encoded data removed]",
      "text/plain": [
       "<Figure size 576x432 with 1 Axes>"
      ]
     },
     "metadata": {
      "needs_background": "light"
     },
     "output_type": "display_data"
    }
   ],
   "source": [
    "plt.figure(figsize=(8,6))\n",
    "sns.barplot(x='Date',y='Price',data=df)"
   ]
  },
  {
   "cell_type": "markdown",
   "id": "791a93af",
   "metadata": {},
   "source": [
    "In the above observation we can see starting dates of the month flight price is high."
   ]
  },
  {
   "cell_type": "code",
   "execution_count": 521,
   "id": "c8b53952",
   "metadata": {},
   "outputs": [
    {
     "data": {
      "text/plain": [
       "<AxesSubplot:xlabel='Day', ylabel='Price'>"
      ]
     },
     "execution_count": 521,
     "metadata": {},
     "output_type": "execute_result"
    },
    {
     "data": {
      "image/png": "[encoded data removed]",
      "text/plain": [
       "<Figure size 576x432 with 1 Axes>"
      ]
     },
     "metadata": {
      "needs_background": "light"
     },
     "output_type": "display_data"
    }
   ],
   "source": [
    "plt.figure(figsize=(8,6))\n",
    "sns.barplot(x='Day',y='Price',data=df)"
   ]
  },
  {
   "cell_type": "markdown",
   "id": "cfdb8600",
   "metadata": {},
   "source": [
    "In the above graph we can see on saturday and sunday the flight price is high."
   ]
  },
  {
   "cell_type": "code",
   "execution_count": 522,
   "id": "b5e29fdc",
   "metadata": {},
   "outputs": [
    {
     "data": {
      "text/plain": [
       "<AxesSubplot:xlabel='Dep_Hour', ylabel='Price'>"
      ]
     },
     "execution_count": 522,
     "metadata": {},
     "output_type": "execute_result"
    },
    {
     "data": {
      "image/png": "[encoded data removed]",
      "text/plain": [
       "<Figure size 576x432 with 1 Axes>"
      ]
     },
     "metadata": {
      "needs_background": "light"
     },
     "output_type": "display_data"
    }
   ],
   "source": [
    "plt.figure(figsize=(8,6))\n",
    "sns.scatterplot(x='Dep_Hour',y='Price',data=df)"
   ]
  },
  {
   "cell_type": "markdown",
   "id": "5ef698d0",
   "metadata": {},
   "source": [
    "In the above ghraph we can see that when departure time is in morning 5 to 10 AM and in evening 4 to 8 PM flight ticket price is high."
   ]
  },
  {
   "cell_type": "code",
   "execution_count": 523,
   "id": "444ac21a",
   "metadata": {},
   "outputs": [
    {
     "data": {
      "text/plain": [
       "<AxesSubplot:xlabel='Arrival_Hour', ylabel='Price'>"
      ]
     },
     "execution_count": 523,
     "metadata": {},
     "output_type": "execute_result"
    },
    {
     "data": {
      "image/png": "[encoded data removed]",
      "text/plain": [
       "<Figure size 576x432 with 1 Axes>"
      ]
     },
     "metadata": {
      "needs_background": "light"
     },
     "output_type": "display_data"
    }
   ],
   "source": [
    "plt.figure(figsize=(8,6))\n",
    "sns.scatterplot(x='Arrival_Hour',y='Price',data=df)"
   ]
  },
  {
   "cell_type": "markdown",
   "id": "ca89c4a8",
   "metadata": {},
   "source": [
    "In the above ghraph we can see that when arrival time is in morning 8 to 11 AM and in evening 4 to 9 PM flight ticket price is high."
   ]
  },
  {
   "cell_type": "code",
   "execution_count": 524,
   "id": "890fd356",
   "metadata": {},
   "outputs": [
    {
     "data": {
      "text/plain": [
       "<AxesSubplot:xlabel='Duration(sec)', ylabel='Price'>"
      ]
     },
     "execution_count": 524,
     "metadata": {},
     "output_type": "execute_result"
    },
    {
     "data": {
      "image/png": "[encoded data removed]",
      "text/plain": [
       "<Figure size 1080x576 with 1 Axes>"
      ]
     },
     "metadata": {
      "needs_background": "light"
     },
     "output_type": "display_data"
    }
   ],
   "source": [
    "plt.figure(figsize=(15,8))\n",
    "sns.scatterplot(x='Duration(sec)',y='Price',data=df)"
   ]
  },
  {
   "cell_type": "markdown",
   "id": "72377381",
   "metadata": {},
   "source": [
    "In the above graph we can see that when the time duration is less flight ticket price is high.\n"
   ]
  },
  {
   "cell_type": "code",
   "execution_count": 525,
   "id": "3d7f6d54",
   "metadata": {},
   "outputs": [
    {
     "data": {
      "text/html": [
       "<div>\n",
       "<style scoped>\n",
       "    .dataframe tbody tr th:only-of-type {\n",
       "        vertical-align: middle;\n",
       "    }\n",
       "\n",
       "    .dataframe tbody tr th {\n",
       "        vertical-align: top;\n",
       "    }\n",
       "\n",
       "    .dataframe thead th {\n",
       "        text-align: right;\n",
       "    }\n",
       "</style>\n",
       "<table border=\"1\" class=\"dataframe\">\n",
       "  <thead>\n",
       "    <tr style=\"text-align: right;\">\n",
       "      <th></th>\n",
       "      <th>Price</th>\n",
       "      <th>Dep_Hour</th>\n",
       "      <th>Dep_Minute</th>\n",
       "      <th>Arrival_Hour</th>\n",
       "      <th>Arrival_Minute</th>\n",
       "      <th>Duration(sec)</th>\n",
       "    </tr>\n",
       "  </thead>\n",
       "  <tbody>\n",
       "    <tr>\n",
       "      <th>Price</th>\n",
       "      <td>1.000000</td>\n",
       "      <td>-0.095155</td>\n",
       "      <td>-0.020651</td>\n",
       "      <td>0.135746</td>\n",
       "      <td>0.037833</td>\n",
       "      <td>0.347304</td>\n",
       "    </tr>\n",
       "    <tr>\n",
       "      <th>Dep_Hour</th>\n",
       "      <td>-0.095155</td>\n",
       "      <td>1.000000</td>\n",
       "      <td>0.103040</td>\n",
       "      <td>-0.017351</td>\n",
       "      <td>-0.103086</td>\n",
       "      <td>0.080976</td>\n",
       "    </tr>\n",
       "    <tr>\n",
       "      <th>Dep_Minute</th>\n",
       "      <td>-0.020651</td>\n",
       "      <td>0.103040</td>\n",
       "      <td>1.000000</td>\n",
       "      <td>0.088788</td>\n",
       "      <td>0.037229</td>\n",
       "      <td>-0.048588</td>\n",
       "    </tr>\n",
       "    <tr>\n",
       "      <th>Arrival_Hour</th>\n",
       "      <td>0.135746</td>\n",
       "      <td>-0.017351</td>\n",
       "      <td>0.088788</td>\n",
       "      <td>1.000000</td>\n",
       "      <td>0.141795</td>\n",
       "      <td>-0.029827</td>\n",
       "    </tr>\n",
       "    <tr>\n",
       "      <th>Arrival_Minute</th>\n",
       "      <td>0.037833</td>\n",
       "      <td>-0.103086</td>\n",
       "      <td>0.037229</td>\n",
       "      <td>0.141795</td>\n",
       "      <td>1.000000</td>\n",
       "      <td>0.045012</td>\n",
       "    </tr>\n",
       "    <tr>\n",
       "      <th>Duration(sec)</th>\n",
       "      <td>0.347304</td>\n",
       "      <td>0.080976</td>\n",
       "      <td>-0.048588</td>\n",
       "      <td>-0.029827</td>\n",
       "      <td>0.045012</td>\n",
       "      <td>1.000000</td>\n",
       "    </tr>\n",
       "  </tbody>\n",
       "</table>\n",
       "</div>"
      ],
      "text/plain": [
       "                   Price  Dep_Hour  Dep_Minute  Arrival_Hour  Arrival_Minute  \\\n",
       "Price           1.000000 -0.095155   -0.020651      0.135746        0.037833   \n",
       "Dep_Hour       -0.095155  1.000000    0.103040     -0.017351       -0.103086   \n",
       "Dep_Minute     -0.020651  0.103040    1.000000      0.088788        0.037229   \n",
       "Arrival_Hour    0.135746 -0.017351    0.088788      1.000000        0.141795   \n",
       "Arrival_Minute  0.037833 -0.103086    0.037229      0.141795        1.000000   \n",
       "Duration(sec)   0.347304  0.080976   -0.048588     -0.029827        0.045012   \n",
       "\n",
       "                Duration(sec)  \n",
       "Price                0.347304  \n",
       "Dep_Hour             0.080976  \n",
       "Dep_Minute          -0.048588  \n",
       "Arrival_Hour        -0.029827  \n",
       "Arrival_Minute       0.045012  \n",
       "Duration(sec)        1.000000  "
      ]
     },
     "execution_count": 525,
     "metadata": {},
     "output_type": "execute_result"
    }
   ],
   "source": [
    "df.corr()"
   ]
  },
  {
   "cell_type": "code",
   "execution_count": 526,
   "id": "c285eacb",
   "metadata": {},
   "outputs": [
    {
     "data": {
      "text/plain": [
       "<AxesSubplot:>"
      ]
     },
     "execution_count": 526,
     "metadata": {},
     "output_type": "execute_result"
    },
    {
     "data": {
      "image/png": "[encoded data removed]",
      "text/plain": [
       "<Figure size 864x576 with 2 Axes>"
      ]
     },
     "metadata": {
      "needs_background": "light"
     },
     "output_type": "display_data"
    }
   ],
   "source": [
    "fig, axis = plt.subplots(figsize=(12, 8))\n",
    "sns.heatmap(df.corr(),annot=True,linewidths=.5,cmap='coolwarm')"
   ]
  },
  {
   "cell_type": "markdown",
   "id": "af182974",
   "metadata": {},
   "source": [
    "In the above ghraph we can see Price and Duration highly possitive correlated. "
   ]
  },
  {
   "cell_type": "code",
   "execution_count": 527,
   "id": "55d24286",
   "metadata": {},
   "outputs": [
    {
     "data": {
      "text/html": [
       "<div>\n",
       "<style scoped>\n",
       "    .dataframe tbody tr th:only-of-type {\n",
       "        vertical-align: middle;\n",
       "    }\n",
       "\n",
       "    .dataframe tbody tr th {\n",
       "        vertical-align: top;\n",
       "    }\n",
       "\n",
       "    .dataframe thead th {\n",
       "        text-align: right;\n",
       "    }\n",
       "</style>\n",
       "<table border=\"1\" class=\"dataframe\">\n",
       "  <thead>\n",
       "    <tr style=\"text-align: right;\">\n",
       "      <th></th>\n",
       "      <th>Airline_Name</th>\n",
       "      <th>Source</th>\n",
       "      <th>Destination</th>\n",
       "      <th>Number of stops</th>\n",
       "      <th>Price</th>\n",
       "      <th>Day</th>\n",
       "      <th>Month</th>\n",
       "      <th>Date</th>\n",
       "      <th>Dep_Hour</th>\n",
       "      <th>Dep_Minute</th>\n",
       "      <th>Arrival_Time</th>\n",
       "      <th>Arrival_Hour</th>\n",
       "      <th>Arrival_Minute</th>\n",
       "      <th>Duration(sec)</th>\n",
       "    </tr>\n",
       "  </thead>\n",
       "  <tbody>\n",
       "    <tr>\n",
       "      <th>0</th>\n",
       "      <td>Go First</td>\n",
       "      <td>New Delhi</td>\n",
       "      <td>Mumbai</td>\n",
       "      <td>1 Stop</td>\n",
       "      <td>8053</td>\n",
       "      <td>Sat</td>\n",
       "      <td>Jun</td>\n",
       "      <td>4</td>\n",
       "      <td>6</td>\n",
       "      <td>5</td>\n",
       "      <td>10:20</td>\n",
       "      <td>10</td>\n",
       "      <td>20</td>\n",
       "      <td>15300</td>\n",
       "    </tr>\n",
       "    <tr>\n",
       "      <th>1</th>\n",
       "      <td>Go First</td>\n",
       "      <td>New Delhi</td>\n",
       "      <td>Mumbai</td>\n",
       "      <td>1 Stop</td>\n",
       "      <td>8053</td>\n",
       "      <td>Sat</td>\n",
       "      <td>Jun</td>\n",
       "      <td>4</td>\n",
       "      <td>6</td>\n",
       "      <td>5</td>\n",
       "      <td>15:00</td>\n",
       "      <td>15</td>\n",
       "      <td>0</td>\n",
       "      <td>32100</td>\n",
       "    </tr>\n",
       "    <tr>\n",
       "      <th>2</th>\n",
       "      <td>SpiceJet</td>\n",
       "      <td>New Delhi</td>\n",
       "      <td>Mumbai</td>\n",
       "      <td>1 Stop</td>\n",
       "      <td>8053</td>\n",
       "      <td>Sat</td>\n",
       "      <td>Jun</td>\n",
       "      <td>4</td>\n",
       "      <td>20</td>\n",
       "      <td>0</td>\n",
       "      <td>10:30</td>\n",
       "      <td>10</td>\n",
       "      <td>30</td>\n",
       "      <td>52200</td>\n",
       "    </tr>\n",
       "    <tr>\n",
       "      <th>3</th>\n",
       "      <td>IndiGo</td>\n",
       "      <td>New Delhi</td>\n",
       "      <td>Mumbai</td>\n",
       "      <td>Non Stop</td>\n",
       "      <td>8054</td>\n",
       "      <td>Sat</td>\n",
       "      <td>Jun</td>\n",
       "      <td>4</td>\n",
       "      <td>6</td>\n",
       "      <td>30</td>\n",
       "      <td>08:35</td>\n",
       "      <td>8</td>\n",
       "      <td>35</td>\n",
       "      <td>7500</td>\n",
       "    </tr>\n",
       "    <tr>\n",
       "      <th>4</th>\n",
       "      <td>IndiGo</td>\n",
       "      <td>New Delhi</td>\n",
       "      <td>Mumbai</td>\n",
       "      <td>Non Stop</td>\n",
       "      <td>8054</td>\n",
       "      <td>Sat</td>\n",
       "      <td>Jun</td>\n",
       "      <td>4</td>\n",
       "      <td>5</td>\n",
       "      <td>30</td>\n",
       "      <td>07:40</td>\n",
       "      <td>7</td>\n",
       "      <td>40</td>\n",
       "      <td>7800</td>\n",
       "    </tr>\n",
       "  </tbody>\n",
       "</table>\n",
       "</div>"
      ],
      "text/plain": [
       "  Airline_Name     Source Destination Number of stops  Price  Day Month Date  \\\n",
       "0     Go First  New Delhi      Mumbai          1 Stop   8053  Sat   Jun    4   \n",
       "1     Go First  New Delhi      Mumbai          1 Stop   8053  Sat   Jun    4   \n",
       "2     SpiceJet  New Delhi      Mumbai          1 Stop   8053  Sat   Jun    4   \n",
       "3       IndiGo  New Delhi      Mumbai        Non Stop   8054  Sat   Jun    4   \n",
       "4       IndiGo  New Delhi      Mumbai        Non Stop   8054  Sat   Jun    4   \n",
       "\n",
       "   Dep_Hour  Dep_Minute Arrival_Time  Arrival_Hour  Arrival_Minute  \\\n",
       "0         6           5        10:20            10              20   \n",
       "1         6           5        15:00            15               0   \n",
       "2        20           0        10:30            10              30   \n",
       "3         6          30        08:35             8              35   \n",
       "4         5          30        07:40             7              40   \n",
       "\n",
       "   Duration(sec)  \n",
       "0          15300  \n",
       "1          32100  \n",
       "2          52200  \n",
       "3           7500  \n",
       "4           7800  "
      ]
     },
     "execution_count": 527,
     "metadata": {},
     "output_type": "execute_result"
    }
   ],
   "source": [
    "df.head(5)"
   ]
  },
  {
   "cell_type": "code",
   "execution_count": 528,
   "id": "db7771dc",
   "metadata": {
    "scrolled": true
   },
   "outputs": [],
   "source": [
    "# Using Get_dummies function for converting catagory data.\n",
    "df=pd.get_dummies(df,columns=['Airline_Name','Day'],drop_first=True)"
   ]
  },
  {
   "cell_type": "code",
   "execution_count": 529,
   "id": "47717222",
   "metadata": {},
   "outputs": [],
   "source": [
    "# Using lable encoding \n",
    "from sklearn.preprocessing import LabelEncoder\n",
    "for col in df.columns:\n",
    "    if df[col].dtypes == 'object':\n",
    "        encoder = LabelEncoder()\n",
    "        df[col] = encoder.fit_transform(df[col])"
   ]
  },
  {
   "cell_type": "code",
   "execution_count": 530,
   "id": "d3227935",
   "metadata": {},
   "outputs": [
    {
     "data": {
      "text/html": [
       "<div>\n",
       "<style scoped>\n",
       "    .dataframe tbody tr th:only-of-type {\n",
       "        vertical-align: middle;\n",
       "    }\n",
       "\n",
       "    .dataframe tbody tr th {\n",
       "        vertical-align: top;\n",
       "    }\n",
       "\n",
       "    .dataframe thead th {\n",
       "        text-align: right;\n",
       "    }\n",
       "</style>\n",
       "<table border=\"1\" class=\"dataframe\">\n",
       "  <thead>\n",
       "    <tr style=\"text-align: right;\">\n",
       "      <th></th>\n",
       "      <th>Source</th>\n",
       "      <th>Destination</th>\n",
       "      <th>Number of stops</th>\n",
       "      <th>Price</th>\n",
       "      <th>Month</th>\n",
       "      <th>Date</th>\n",
       "      <th>Dep_Hour</th>\n",
       "      <th>Dep_Minute</th>\n",
       "      <th>Arrival_Time</th>\n",
       "      <th>Arrival_Hour</th>\n",
       "      <th>...</th>\n",
       "      <th>Airline_Name_Go First</th>\n",
       "      <th>Airline_Name_IndiGo</th>\n",
       "      <th>Airline_Name_SpiceJet</th>\n",
       "      <th>Airline_Name_Vistara</th>\n",
       "      <th>Day_Mon</th>\n",
       "      <th>Day_Sat</th>\n",
       "      <th>Day_Sun</th>\n",
       "      <th>Day_Thu</th>\n",
       "      <th>Day_Tue</th>\n",
       "      <th>Day_Wed</th>\n",
       "    </tr>\n",
       "  </thead>\n",
       "  <tbody>\n",
       "    <tr>\n",
       "      <th>0</th>\n",
       "      <td>0</td>\n",
       "      <td>0</td>\n",
       "      <td>0</td>\n",
       "      <td>8053</td>\n",
       "      <td>0</td>\n",
       "      <td>10</td>\n",
       "      <td>6</td>\n",
       "      <td>5</td>\n",
       "      <td>39</td>\n",
       "      <td>10</td>\n",
       "      <td>...</td>\n",
       "      <td>1</td>\n",
       "      <td>0</td>\n",
       "      <td>0</td>\n",
       "      <td>0</td>\n",
       "      <td>0</td>\n",
       "      <td>1</td>\n",
       "      <td>0</td>\n",
       "      <td>0</td>\n",
       "      <td>0</td>\n",
       "      <td>0</td>\n",
       "    </tr>\n",
       "    <tr>\n",
       "      <th>1</th>\n",
       "      <td>0</td>\n",
       "      <td>0</td>\n",
       "      <td>0</td>\n",
       "      <td>8053</td>\n",
       "      <td>0</td>\n",
       "      <td>10</td>\n",
       "      <td>6</td>\n",
       "      <td>5</td>\n",
       "      <td>73</td>\n",
       "      <td>15</td>\n",
       "      <td>...</td>\n",
       "      <td>1</td>\n",
       "      <td>0</td>\n",
       "      <td>0</td>\n",
       "      <td>0</td>\n",
       "      <td>0</td>\n",
       "      <td>1</td>\n",
       "      <td>0</td>\n",
       "      <td>0</td>\n",
       "      <td>0</td>\n",
       "      <td>0</td>\n",
       "    </tr>\n",
       "    <tr>\n",
       "      <th>2</th>\n",
       "      <td>0</td>\n",
       "      <td>0</td>\n",
       "      <td>0</td>\n",
       "      <td>8053</td>\n",
       "      <td>0</td>\n",
       "      <td>10</td>\n",
       "      <td>20</td>\n",
       "      <td>0</td>\n",
       "      <td>40</td>\n",
       "      <td>10</td>\n",
       "      <td>...</td>\n",
       "      <td>0</td>\n",
       "      <td>0</td>\n",
       "      <td>1</td>\n",
       "      <td>0</td>\n",
       "      <td>0</td>\n",
       "      <td>1</td>\n",
       "      <td>0</td>\n",
       "      <td>0</td>\n",
       "      <td>0</td>\n",
       "      <td>0</td>\n",
       "    </tr>\n",
       "    <tr>\n",
       "      <th>3</th>\n",
       "      <td>0</td>\n",
       "      <td>0</td>\n",
       "      <td>2</td>\n",
       "      <td>8054</td>\n",
       "      <td>0</td>\n",
       "      <td>10</td>\n",
       "      <td>6</td>\n",
       "      <td>30</td>\n",
       "      <td>25</td>\n",
       "      <td>8</td>\n",
       "      <td>...</td>\n",
       "      <td>0</td>\n",
       "      <td>1</td>\n",
       "      <td>0</td>\n",
       "      <td>0</td>\n",
       "      <td>0</td>\n",
       "      <td>1</td>\n",
       "      <td>0</td>\n",
       "      <td>0</td>\n",
       "      <td>0</td>\n",
       "      <td>0</td>\n",
       "    </tr>\n",
       "    <tr>\n",
       "      <th>4</th>\n",
       "      <td>0</td>\n",
       "      <td>0</td>\n",
       "      <td>2</td>\n",
       "      <td>8054</td>\n",
       "      <td>0</td>\n",
       "      <td>10</td>\n",
       "      <td>5</td>\n",
       "      <td>30</td>\n",
       "      <td>20</td>\n",
       "      <td>7</td>\n",
       "      <td>...</td>\n",
       "      <td>0</td>\n",
       "      <td>1</td>\n",
       "      <td>0</td>\n",
       "      <td>0</td>\n",
       "      <td>0</td>\n",
       "      <td>1</td>\n",
       "      <td>0</td>\n",
       "      <td>0</td>\n",
       "      <td>0</td>\n",
       "      <td>0</td>\n",
       "    </tr>\n",
       "  </tbody>\n",
       "</table>\n",
       "<p>5 rows × 23 columns</p>\n",
       "</div>"
      ],
      "text/plain": [
       "   Source  Destination  Number of stops  Price  Month  Date  Dep_Hour  \\\n",
       "0       0            0                0   8053      0    10         6   \n",
       "1       0            0                0   8053      0    10         6   \n",
       "2       0            0                0   8053      0    10        20   \n",
       "3       0            0                2   8054      0    10         6   \n",
       "4       0            0                2   8054      0    10         5   \n",
       "\n",
       "   Dep_Minute  Arrival_Time  Arrival_Hour  ...  Airline_Name_Go First  \\\n",
       "0           5            39            10  ...                      1   \n",
       "1           5            73            15  ...                      1   \n",
       "2           0            40            10  ...                      0   \n",
       "3          30            25             8  ...                      0   \n",
       "4          30            20             7  ...                      0   \n",
       "\n",
       "   Airline_Name_IndiGo  Airline_Name_SpiceJet  Airline_Name_Vistara  Day_Mon  \\\n",
       "0                    0                      0                     0        0   \n",
       "1                    0                      0                     0        0   \n",
       "2                    0                      1                     0        0   \n",
       "3                    1                      0                     0        0   \n",
       "4                    1                      0                     0        0   \n",
       "\n",
       "   Day_Sat  Day_Sun  Day_Thu  Day_Tue  Day_Wed  \n",
       "0        1        0        0        0        0  \n",
       "1        1        0        0        0        0  \n",
       "2        1        0        0        0        0  \n",
       "3        1        0        0        0        0  \n",
       "4        1        0        0        0        0  \n",
       "\n",
       "[5 rows x 23 columns]"
      ]
     },
     "execution_count": 530,
     "metadata": {},
     "output_type": "execute_result"
    }
   ],
   "source": [
    "df.head(5)"
   ]
  },
  {
   "cell_type": "code",
   "execution_count": 531,
   "id": "e5129783",
   "metadata": {},
   "outputs": [
    {
     "data": {
      "text/plain": [
       "Source                    int32\n",
       "Destination               int32\n",
       "Number of stops           int32\n",
       "Price                     int32\n",
       "Month                     int32\n",
       "Date                      int32\n",
       "Dep_Hour                  int64\n",
       "Dep_Minute                int64\n",
       "Arrival_Time              int32\n",
       "Arrival_Hour              int64\n",
       "Arrival_Minute            int64\n",
       "Duration(sec)             int64\n",
       "Airline_Name_Air India    uint8\n",
       "Airline_Name_Go First     uint8\n",
       "Airline_Name_IndiGo       uint8\n",
       "Airline_Name_SpiceJet     uint8\n",
       "Airline_Name_Vistara      uint8\n",
       "Day_Mon                   uint8\n",
       "Day_Sat                   uint8\n",
       "Day_Sun                   uint8\n",
       "Day_Thu                   uint8\n",
       "Day_Tue                   uint8\n",
       "Day_Wed                   uint8\n",
       "dtype: object"
      ]
     },
     "execution_count": 531,
     "metadata": {},
     "output_type": "execute_result"
    }
   ],
   "source": [
    "df.dtypes"
   ]
  },
  {
   "cell_type": "code",
   "execution_count": 532,
   "id": "6fa6d3b9",
   "metadata": {},
   "outputs": [
    {
     "data": {
      "text/plain": [
       "(2375, 23)"
      ]
     },
     "execution_count": 532,
     "metadata": {},
     "output_type": "execute_result"
    }
   ],
   "source": [
    "df.shape"
   ]
  },
  {
   "cell_type": "markdown",
   "id": "0e2ede21",
   "metadata": {},
   "source": [
    "now our data converted into int datatype and shape of our data is 2375 rows and 23 columns."
   ]
  },
  {
   "cell_type": "code",
   "execution_count": 533,
   "id": "2967bda3",
   "metadata": {},
   "outputs": [],
   "source": [
    "#Removing Unnecessary columns all these columns have only one type of valaue\n",
    "df= df.drop(['Source','Destination','Month'],axis=1)"
   ]
  },
  {
   "cell_type": "code",
   "execution_count": 534,
   "id": "6394365f",
   "metadata": {},
   "outputs": [
    {
     "data": {
      "text/plain": [
       "(2375, 20)"
      ]
     },
     "execution_count": 534,
     "metadata": {},
     "output_type": "execute_result"
    }
   ],
   "source": [
    "df.shape\n"
   ]
  },
  {
   "cell_type": "code",
   "execution_count": 535,
   "id": "16dbd143",
   "metadata": {},
   "outputs": [
    {
     "data": {
      "text/plain": [
       "Number of stops           0.803597\n",
       "Price                     1.572402\n",
       "Date                     -0.008619\n",
       "Dep_Hour                  0.027084\n",
       "Dep_Minute               -0.041442\n",
       "Arrival_Time             -0.061736\n",
       "Arrival_Hour             -0.370906\n",
       "Arrival_Minute            0.191332\n",
       "Duration(sec)             1.136118\n",
       "Airline_Name_Air India    2.078841\n",
       "Airline_Name_Go First     2.286069\n",
       "Airline_Name_IndiGo       1.076386\n",
       "Airline_Name_SpiceJet     2.468918\n",
       "Airline_Name_Vistara      0.909909\n",
       "Day_Mon                   2.114681\n",
       "Day_Sat                   1.405532\n",
       "Day_Sun                   1.369100\n",
       "Day_Thu                   2.034130\n",
       "Day_Tue                   3.350702\n",
       "Day_Wed                   3.508591\n",
       "dtype: float64"
      ]
     },
     "execution_count": 535,
     "metadata": {},
     "output_type": "execute_result"
    }
   ],
   "source": [
    "df.skew()"
   ]
  },
  {
   "cell_type": "markdown",
   "id": "1feeb3c3",
   "metadata": {},
   "source": [
    "Normal Skewness range is -0.5 to 0.5 so some of the columns are out of range."
   ]
  },
  {
   "cell_type": "code",
   "execution_count": 536,
   "id": "573cd6ff",
   "metadata": {},
   "outputs": [],
   "source": [
    "skewed_columns=[\"Duration(sec)\",\"Price\",\"Airline_Name_Air India\",\"Airline_Name_Go First\",\"Airline_Name_IndiGo\",\"Airline_Name_SpiceJet\",\"Airline_Name_Vistara\",\"Day_Mon\",\"Day_Sat\",\"Day_Sun\",\"Day_Thu\",\"Day_Tue\",\"Day_Wed\"]"
   ]
  },
  {
   "cell_type": "code",
   "execution_count": 537,
   "id": "b2128e5b",
   "metadata": {},
   "outputs": [],
   "source": [
    "# Using log transformation \n",
    "for col in df[skewed_columns]:\n",
    "    df[col]=np.log1p(df[col])"
   ]
  },
  {
   "cell_type": "markdown",
   "id": "f7ac94fa",
   "metadata": {},
   "source": [
    "### Seperating data into independent and dependent variables."
   ]
  },
  {
   "cell_type": "code",
   "execution_count": 539,
   "id": "157ba3ca",
   "metadata": {},
   "outputs": [],
   "source": [
    "x= df.drop('Price',axis=1)\n",
    "y= df['Price']"
   ]
  },
  {
   "cell_type": "code",
   "execution_count": 542,
   "id": "4c798e1d",
   "metadata": {},
   "outputs": [],
   "source": [
    "# Standrization of Data\n",
    "from sklearn.preprocessing import StandardScaler\n",
    "sc = StandardScaler()\n",
    "x = sc.fit_transform(x)"
   ]
  },
  {
   "cell_type": "code",
   "execution_count": 544,
   "id": "1a54890d",
   "metadata": {},
   "outputs": [
    {
     "name": "stdout",
     "output_type": "stream",
     "text": [
      "Best R2_score is 0.4841530207985999 on random state 193\n"
     ]
    }
   ],
   "source": [
    "# Finding the best Random State\n",
    "from sklearn.linear_model import LinearRegression\n",
    "from sklearn.model_selection import train_test_split\n",
    "from sklearn.metrics import r2_score\n",
    "from sklearn.metrics import mean_absolute_error\n",
    "from sklearn.metrics import mean_squared_error\n",
    "from sklearn.model_selection import cross_val_score\n",
    "MaxAccu=0\n",
    "maxRS=0\n",
    "for i in range(1,200):\n",
    "    x_train,x_test,y_train,y_test=train_test_split(x,y,test_size=0.3,random_state=i)\n",
    "    mod=LinearRegression()\n",
    "    mod.fit(x_train,y_train)\n",
    "    pred=mod.predict(x_test)\n",
    "    acc=r2_score(y_test,pred)\n",
    "    if acc>MaxAccu:\n",
    "        MaxAccu=acc\n",
    "        maxRS=i\n",
    "print(\"Best R2_score is\",MaxAccu,'on random state',maxRS)"
   ]
  },
  {
   "cell_type": "code",
   "execution_count": 545,
   "id": "010ef17a",
   "metadata": {},
   "outputs": [],
   "source": [
    "# Creating Train Test Split\n",
    "x_train,x_test,y_train,y_test=train_test_split(x,y,test_size=0.3,random_state=maxRS)"
   ]
  },
  {
   "cell_type": "markdown",
   "id": "6bce7470",
   "metadata": {},
   "source": [
    "### Model Building\n"
   ]
  },
  {
   "cell_type": "code",
   "execution_count": 552,
   "id": "67c40062",
   "metadata": {},
   "outputs": [
    {
     "name": "stdout",
     "output_type": "stream",
     "text": [
      "R2 score from Linear regression is 0.48415302079860023\n",
      "Mean absolute error :  0.1917672574380691\n",
      "Mean Squared error : 0.06530838233722003\n",
      "Cross validation score is  -0.08347646652832967\n"
     ]
    }
   ],
   "source": [
    "#Linear Regression\n",
    "from sklearn.linear_model import LinearRegression\n",
    "regressor=LinearRegression()\n",
    "regressor.fit(x_train,y_train)\n",
    "y_pred=regressor.predict(x_test)\n",
    "lr_score=r2_score(y_test,y_pred)\n",
    "print(\"R2 score from Linear regression is\",lr_score)\n",
    "lr_cv=cross_val_score(regressor,x,y,scoring='r2',cv=5).mean()\n",
    "lr_mae=mean_absolute_error(y_test,y_pred)\n",
    "print('Mean absolute error : ',lr_mae)\n",
    "lr_mse=mean_squared_error(y_test,y_pred)\n",
    "print('Mean Squared error :',lr_mse)\n",
    "print(\"Cross validation score is \",lr_cv)"
   ]
  },
  {
   "cell_type": "code",
   "execution_count": 553,
   "id": "11a71ef3",
   "metadata": {},
   "outputs": [
    {
     "name": "stdout",
     "output_type": "stream",
     "text": [
      "R2 score from Support Vector regression is 0.7914280902865125\n",
      "Mean absolute error :  0.11399255655791124\n",
      "Mean Squared error : 0.026406075005926125\n",
      "Cross validation score is  -0.209027854573082\n"
     ]
    }
   ],
   "source": [
    "# Support Vector Regression\n",
    "from sklearn.svm import SVR\n",
    "SR = SVR()\n",
    "SR.fit(x, y)\n",
    "y_pred=SR.predict(x_test)\n",
    "svr_score=r2_score(y_test,y_pred)\n",
    "print(\"R2 score from Support Vector regression is\",svr_score)\n",
    "svr_cv=cross_val_score(SR,x,y,scoring='r2',cv=5).mean()\n",
    "svr_mae=mean_absolute_error(y_test,y_pred)\n",
    "print('Mean absolute error : ',svr_mae)\n",
    "svr_mse=mean_squared_error(y_test,y_pred)\n",
    "print('Mean Squared error :',svr_mse)\n",
    "print(\"Cross validation score is \",svr_cv)"
   ]
  },
  {
   "cell_type": "code",
   "execution_count": 554,
   "id": "9c592b60",
   "metadata": {},
   "outputs": [
    {
     "name": "stdout",
     "output_type": "stream",
     "text": [
      "R2 score from K Nearest Neighbors regression is 0.714682007330707\n",
      "Mean absolute error :  0.13312658988502657\n",
      "Mean Squared error : 0.03612244968804843\n",
      "Cross validation score is  0.025838554149467296\n"
     ]
    }
   ],
   "source": [
    "# K nearest neighbors\n",
    "from sklearn.neighbors import KNeighborsRegressor\n",
    "neigh = KNeighborsRegressor()\n",
    "neigh.fit(x, y)\n",
    "y_pred=neigh.predict(x_test)\n",
    "knn_score=r2_score(y_test,y_pred)\n",
    "print(\"R2 score from K Nearest Neighbors regression is\",knn_score)\n",
    "knn_cv=cross_val_score(neigh,x,y,scoring='r2',cv=5).mean()\n",
    "knn_mae=mean_absolute_error(y_test,y_pred)\n",
    "print('Mean absolute error : ',knn_mae)\n",
    "knn_mse=mean_squared_error(y_test,y_pred)\n",
    "print('Mean Squared error :',knn_mse)\n",
    "print(\"Cross validation score is \",knn_cv)"
   ]
  },
  {
   "cell_type": "code",
   "execution_count": 555,
   "id": "96b08726",
   "metadata": {},
   "outputs": [
    {
     "name": "stdout",
     "output_type": "stream",
     "text": [
      "R2 score from Random Forest regression is 0.8323999136131035\n",
      "Mean absolute error :  0.08793307048383679\n",
      "Mean Squared error : 0.021218871027318866\n",
      "Cross validation score is  0.25138951060744147\n"
     ]
    }
   ],
   "source": [
    "from sklearn.ensemble import RandomForestRegressor\n",
    "RFR= RandomForestRegressor()\n",
    "RFR.fit(x_train, y_train)\n",
    "y_pred=RFR.predict(x_test)\n",
    "rfr_score=r2_score(y_test,y_pred)\n",
    "print(\"R2 score from Random Forest regression is\",rfr_score)\n",
    "rfr_cv=cross_val_score(RFR,x,y,scoring='r2',cv=5).mean()\n",
    "rfr_mae=mean_absolute_error(y_test,y_pred)\n",
    "print('Mean absolute error : ',rfr_mae)\n",
    "rfr_mse=mean_squared_error(y_test,y_pred)\n",
    "print('Mean Squared error :',rfr_mse)\n",
    "print(\"Cross validation score is \",rfr_cv)"
   ]
  },
  {
   "cell_type": "code",
   "execution_count": 557,
   "id": "9a82ebc9",
   "metadata": {},
   "outputs": [
    {
     "data": {
      "text/html": [
       "<div>\n",
       "<style scoped>\n",
       "    .dataframe tbody tr th:only-of-type {\n",
       "        vertical-align: middle;\n",
       "    }\n",
       "\n",
       "    .dataframe tbody tr th {\n",
       "        vertical-align: top;\n",
       "    }\n",
       "\n",
       "    .dataframe thead th {\n",
       "        text-align: right;\n",
       "    }\n",
       "</style>\n",
       "<table border=\"1\" class=\"dataframe\">\n",
       "  <thead>\n",
       "    <tr style=\"text-align: right;\">\n",
       "      <th></th>\n",
       "      <th>Model</th>\n",
       "      <th>R2_score</th>\n",
       "      <th>Mean Absolute Error</th>\n",
       "      <th>Mean Squared Error</th>\n",
       "      <th>Cross validation_score</th>\n",
       "    </tr>\n",
       "  </thead>\n",
       "  <tbody>\n",
       "    <tr>\n",
       "      <th>0</th>\n",
       "      <td>Linear Regression</td>\n",
       "      <td>48.415302</td>\n",
       "      <td>0.191767</td>\n",
       "      <td>0.065308</td>\n",
       "      <td>-8.347647</td>\n",
       "    </tr>\n",
       "    <tr>\n",
       "      <th>1</th>\n",
       "      <td>Support Vector Regressor</td>\n",
       "      <td>79.142809</td>\n",
       "      <td>0.113993</td>\n",
       "      <td>0.026406</td>\n",
       "      <td>-20.902785</td>\n",
       "    </tr>\n",
       "    <tr>\n",
       "      <th>2</th>\n",
       "      <td>K Neighbors Regressor</td>\n",
       "      <td>71.468201</td>\n",
       "      <td>0.133127</td>\n",
       "      <td>0.036122</td>\n",
       "      <td>2.583855</td>\n",
       "    </tr>\n",
       "    <tr>\n",
       "      <th>3</th>\n",
       "      <td>Random Forest Regressor</td>\n",
       "      <td>83.239991</td>\n",
       "      <td>0.087933</td>\n",
       "      <td>0.021219</td>\n",
       "      <td>25.138951</td>\n",
       "    </tr>\n",
       "  </tbody>\n",
       "</table>\n",
       "</div>"
      ],
      "text/plain": [
       "                      Model   R2_score  Mean Absolute Error  \\\n",
       "0         Linear Regression  48.415302             0.191767   \n",
       "1  Support Vector Regressor  79.142809             0.113993   \n",
       "2     K Neighbors Regressor  71.468201             0.133127   \n",
       "3   Random Forest Regressor  83.239991             0.087933   \n",
       "\n",
       "   Mean Squared Error  Cross validation_score  \n",
       "0            0.065308               -8.347647  \n",
       "1            0.026406              -20.902785  \n",
       "2            0.036122                2.583855  \n",
       "3            0.021219               25.138951  "
      ]
     },
     "execution_count": 557,
     "metadata": {},
     "output_type": "execute_result"
    }
   ],
   "source": [
    "model=['Linear Regression','Support Vector Regressor','K Neighbors Regressor','Random Forest Regressor']\n",
    "\n",
    "acc=[lr_score*100,svr_score*100,knn_score*100,rfr_score*100]\n",
    "mae=[lr_mae,svr_mae,knn_mae,rfr_mae]\n",
    "mse=[lr_mse,svr_mse,knn_mse,rfr_mse]\n",
    "cv_score=[lr_cv*100,svr_cv*100,knn_cv*100,rfr_cv*100]\n",
    "\n",
    "result=pd.DataFrame({'Model':model,'R2_score':acc,'Mean Absolute Error':mae,'Mean Squared Error':mse,'Cross validation_score':cv_score})\n",
    "result\n",
    "# Creting dataframe to store R2_score,Mae and cv score of all the models."
   ]
  },
  {
   "cell_type": "markdown",
   "id": "d6bc63e2",
   "metadata": {},
   "source": [
    "### Choosing the model"
   ]
  },
  {
   "cell_type": "markdown",
   "id": "a9c53082",
   "metadata": {},
   "source": [
    "In the above models Random Forest Regressor gives 83.23% of accuracy with minimum MAE and MSE \n",
    "\n",
    "\n",
    "### Applying Hyper Perameter tunning for best accuracy"
   ]
  },
  {
   "cell_type": "code",
   "execution_count": 558,
   "id": "43f87ea9",
   "metadata": {},
   "outputs": [],
   "source": [
    "from sklearn.model_selection import GridSearchCV"
   ]
  },
  {
   "cell_type": "code",
   "execution_count": 576,
   "id": "dc5c2b9a",
   "metadata": {},
   "outputs": [],
   "source": [
    "parameters = { \n",
    "            \"n_estimators\"      : [10,50,100,200,300],\n",
    "            \"max_features\"      : [\"auto\", \"sqrt\", \"log2\"],\n",
    "            \"min_samples_split\" : [2,4,8,10],\n",
    "            \"bootstrap\": [True, False],\n",
    "            }"
   ]
  },
  {
   "cell_type": "code",
   "execution_count": 577,
   "id": "73ee36bb",
   "metadata": {},
   "outputs": [],
   "source": [
    "GCV=GridSearchCV(RandomForestRegressor(),parameters,cv=5)"
   ]
  },
  {
   "cell_type": "code",
   "execution_count": 578,
   "id": "8af85415",
   "metadata": {},
   "outputs": [
    {
     "data": {
      "text/plain": [
       "GridSearchCV(cv=5, estimator=RandomForestRegressor(),\n",
       "             param_grid={'bootstrap': [True, False],\n",
       "                         'max_features': ['auto', 'sqrt', 'log2'],\n",
       "                         'min_samples_split': [2, 4, 8, 10],\n",
       "                         'n_estimators': [10, 50, 100, 200, 300]})"
      ]
     },
     "execution_count": 578,
     "metadata": {},
     "output_type": "execute_result"
    }
   ],
   "source": [
    "GCV.fit(x_train,y_train)"
   ]
  },
  {
   "cell_type": "code",
   "execution_count": 579,
   "id": "73ddc616",
   "metadata": {},
   "outputs": [
    {
     "data": {
      "text/plain": [
       "{'bootstrap': False,\n",
       " 'max_features': 'log2',\n",
       " 'min_samples_split': 2,\n",
       " 'n_estimators': 200}"
      ]
     },
     "execution_count": 579,
     "metadata": {},
     "output_type": "execute_result"
    }
   ],
   "source": [
    "GCV.best_params_"
   ]
  },
  {
   "cell_type": "code",
   "execution_count": 580,
   "id": "0d7931d0",
   "metadata": {},
   "outputs": [
    {
     "name": "stdout",
     "output_type": "stream",
     "text": [
      "R2 Score of the model is  82.50180534769905\n",
      "Mean absolute error :  0.0938775223700257\n"
     ]
    }
   ],
   "source": [
    "Final_Model=RandomForestRegressor(bootstrap=False,max_features='log2',min_samples_split=2,n_estimators=200)\n",
    "Final_Model.fit(x_train,y_train)\n",
    "y_pred=Final_Model.predict(x_test)\n",
    "acc=r2_score(y_test,y_pred)\n",
    "print(\"R2 Score of the model is \",acc*100)\n",
    "knn_mae=mean_absolute_error(y_test,y_pred)\n",
    "print('Mean absolute error : ',knn_mae)"
   ]
  },
  {
   "cell_type": "markdown",
   "id": "66c7dec4",
   "metadata": {},
   "source": [
    "### Conclusion\n",
    "Here after trying with various model for the above dataset, I am going to choose Random forest regressor as the best model for pridicting the price of the flights.Randmon Forest Regressor not performs better with hyperparameter tuning, then we will go with default perameters."
   ]
  },
  {
   "cell_type": "code",
   "execution_count": 581,
   "id": "6a093f77",
   "metadata": {},
   "outputs": [],
   "source": [
    "import joblib\n",
    "import sys\n",
    "sys.modules['sklearn.externals.joblib']=joblib\n",
    "from sklearn.externals import joblib\n"
   ]
  },
  {
   "cell_type": "code",
   "execution_count": 582,
   "id": "2c17cf43",
   "metadata": {},
   "outputs": [
    {
     "data": {
      "text/plain": [
       "['Final_Model.pkl']"
      ]
     },
     "execution_count": 582,
     "metadata": {},
     "output_type": "execute_result"
    }
   ],
   "source": [
    "joblib.dump(Final_Model,'Final_Model.pkl')"
   ]
  },
  {
   "cell_type": "code",
   "execution_count": null,
   "id": "a3f6907f",
   "metadata": {},
   "outputs": [],
   "source": []
  }
 ],
 "metadata": {
  "kernelspec": {
   "display_name": "Python 3",
   "language": "python",
   "name": "python3"
  },
  "language_info": {
   "codemirror_mode": {
    "name": "ipython",
    "version": 3
   },
   "file_extension": ".py",
   "mimetype": "text/x-python",
   "name": "python",
   "nbconvert_exporter": "python",
   "pygments_lexer": "ipython3",
   "version": "3.8.8"
  }
 },
 "nbformat": 4,
 "nbformat_minor": 5
}
